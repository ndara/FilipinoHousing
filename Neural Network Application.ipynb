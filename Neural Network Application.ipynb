{
 "cells": [
  {
   "cell_type": "code",
   "execution_count": 50,
   "metadata": {
    "collapsed": false
   },
   "outputs": [],
   "source": [
    "import pandas as pd\n",
    "pd.set_option('display.max_columns', None)\n",
    "import numpy as np\n",
    "\n",
    "# Viz\n",
    "import seaborn as sns\n",
    "import matplotlib.pyplot as plt\n",
    "%matplotlib inline\n",
    "\n",
    "# Feature Engineering\n",
    "from sklearn.preprocessing import StandardScaler\n",
    "\n",
    "# Model Storage\n",
    "from sklearn.externals import joblib\n",
    "\n",
    "# NN\n",
    "import keras as k\n",
    "from keras.models import Sequential\n",
    "from keras.layers import Dense, Activation\n",
    "\n",
    "##\n",
    "from nn import NeuralNetwork\n",
    "import nn "
   ]
  },
  {
   "cell_type": "code",
   "execution_count": 51,
   "metadata": {
    "collapsed": false
   },
   "outputs": [
    {
     "name": "stdout",
     "output_type": "stream",
     "text": [
      "Train Data Rows:  33235\n",
      "Test Data Rows:  8309\n"
     ]
    }
   ],
   "source": [
    "train_data = pd.read_csv(\"/data/project2/train.csv\")\n",
    "test_data = pd.read_csv(\"/data/project2/test.csv\")\n",
    "print(\"Train Data Rows: \", len(train_data))\n",
    "print(\"Test Data Rows: \", len(test_data))"
   ]
  },
  {
   "cell_type": "code",
   "execution_count": 52,
   "metadata": {
    "collapsed": false
   },
   "outputs": [
    {
     "data": {
      "text/html": [
       "<div>\n",
       "<table border=\"1\" class=\"dataframe\">\n",
       "  <thead>\n",
       "    <tr style=\"text-align: right;\">\n",
       "      <th></th>\n",
       "      <th>Index</th>\n",
       "      <th>Region</th>\n",
       "      <th>Total Food Expenditure</th>\n",
       "      <th>Main Source of Income</th>\n",
       "      <th>Agricultural Household indicator</th>\n",
       "      <th>Bread and Cereals Expenditure</th>\n",
       "      <th>Total Rice Expenditure</th>\n",
       "      <th>Meat Expenditure</th>\n",
       "      <th>Total Fish and  marine products Expenditure</th>\n",
       "      <th>Fruit Expenditure</th>\n",
       "      <th>Vegetables Expenditure</th>\n",
       "      <th>Restaurant and hotels Expenditure</th>\n",
       "      <th>Alcoholic Beverages Expenditure</th>\n",
       "      <th>Tobacco Expenditure</th>\n",
       "      <th>Clothing, Footwear and Other Wear Expenditure</th>\n",
       "      <th>Housing and water Expenditure</th>\n",
       "      <th>Imputed House Rental Value</th>\n",
       "      <th>Medical Care Expenditure</th>\n",
       "      <th>Transportation Expenditure</th>\n",
       "      <th>Communication Expenditure</th>\n",
       "      <th>Education Expenditure</th>\n",
       "      <th>Miscellaneous Goods and Services Expenditure</th>\n",
       "      <th>Special Occasions Expenditure</th>\n",
       "      <th>Crop Farming and Gardening expenses</th>\n",
       "      <th>Total Income from Entrepreneurial Acitivites</th>\n",
       "      <th>Household Head Sex</th>\n",
       "      <th>Household Head Age</th>\n",
       "      <th>Household Head Marital Status</th>\n",
       "      <th>Household Head Highest Grade Completed</th>\n",
       "      <th>Household Head Job or Business Indicator</th>\n",
       "      <th>Household Head Occupation</th>\n",
       "      <th>Household Head Class of Worker</th>\n",
       "      <th>Type of Household</th>\n",
       "      <th>Total Number of Family members</th>\n",
       "      <th>Members with age less than 5 year old</th>\n",
       "      <th>Members with age 5 - 17 years old</th>\n",
       "      <th>Total number of family members employed</th>\n",
       "      <th>Type of Building/House</th>\n",
       "      <th>Type of Roof</th>\n",
       "      <th>Type of Walls</th>\n",
       "      <th>House Floor Area</th>\n",
       "      <th>House Age</th>\n",
       "      <th>Number of bedrooms</th>\n",
       "      <th>Tenure Status</th>\n",
       "      <th>Toilet Facilities</th>\n",
       "      <th>Electricity</th>\n",
       "      <th>Main Source of Water Supply</th>\n",
       "      <th>Number of Television</th>\n",
       "      <th>Number of CD/VCD/DVD</th>\n",
       "      <th>Number of Component/Stereo set</th>\n",
       "      <th>Number of Refrigerator/Freezer</th>\n",
       "      <th>Number of Washing Machine</th>\n",
       "      <th>Number of Airconditioner</th>\n",
       "      <th>Number of Car, Jeep, Van</th>\n",
       "      <th>Number of Landline/wireless telephones</th>\n",
       "      <th>Number of Cellular phone</th>\n",
       "      <th>Number of Personal Computer</th>\n",
       "      <th>Number of Stove with Oven/Gas Range</th>\n",
       "      <th>Number of Motorized Banca</th>\n",
       "      <th>Number of Motorcycle/Tricycle</th>\n",
       "      <th>Total Household Income</th>\n",
       "    </tr>\n",
       "  </thead>\n",
       "  <tbody>\n",
       "    <tr>\n",
       "      <th>0</th>\n",
       "      <td>22617</td>\n",
       "      <td>CAR</td>\n",
       "      <td>81940</td>\n",
       "      <td>Enterpreneurial Activities</td>\n",
       "      <td>1</td>\n",
       "      <td>44171</td>\n",
       "      <td>40336</td>\n",
       "      <td>9053</td>\n",
       "      <td>4499</td>\n",
       "      <td>5245</td>\n",
       "      <td>6625</td>\n",
       "      <td>2410</td>\n",
       "      <td>145</td>\n",
       "      <td>0</td>\n",
       "      <td>1769</td>\n",
       "      <td>12300</td>\n",
       "      <td>3600</td>\n",
       "      <td>544</td>\n",
       "      <td>2700</td>\n",
       "      <td>636</td>\n",
       "      <td>0</td>\n",
       "      <td>5466</td>\n",
       "      <td>5150</td>\n",
       "      <td>22300</td>\n",
       "      <td>46100</td>\n",
       "      <td>Male</td>\n",
       "      <td>63</td>\n",
       "      <td>Married</td>\n",
       "      <td>Elementary Graduate</td>\n",
       "      <td>With Job/Business</td>\n",
       "      <td>Carpenters and joiners</td>\n",
       "      <td>Worked for private establishment</td>\n",
       "      <td>Extended Family</td>\n",
       "      <td>6</td>\n",
       "      <td>2</td>\n",
       "      <td>1</td>\n",
       "      <td>2</td>\n",
       "      <td>Single house</td>\n",
       "      <td>Strong material(galvanized,iron,al,tile,concre...</td>\n",
       "      <td>Strong</td>\n",
       "      <td>342</td>\n",
       "      <td>30</td>\n",
       "      <td>2</td>\n",
       "      <td>Own or owner-like possession of house and lot</td>\n",
       "      <td>Water-sealed, sewer septic tank, used exclusiv...</td>\n",
       "      <td>1</td>\n",
       "      <td>Protected spring, river, stream, etc</td>\n",
       "      <td>0</td>\n",
       "      <td>0</td>\n",
       "      <td>0</td>\n",
       "      <td>0</td>\n",
       "      <td>1</td>\n",
       "      <td>0</td>\n",
       "      <td>0</td>\n",
       "      <td>0</td>\n",
       "      <td>2</td>\n",
       "      <td>0</td>\n",
       "      <td>0</td>\n",
       "      <td>0</td>\n",
       "      <td>0</td>\n",
       "      <td>115835</td>\n",
       "    </tr>\n",
       "    <tr>\n",
       "      <th>1</th>\n",
       "      <td>21389</td>\n",
       "      <td>V - Bicol Region</td>\n",
       "      <td>26176</td>\n",
       "      <td>Other sources of Income</td>\n",
       "      <td>0</td>\n",
       "      <td>14477</td>\n",
       "      <td>13067</td>\n",
       "      <td>722</td>\n",
       "      <td>3707</td>\n",
       "      <td>755</td>\n",
       "      <td>1560</td>\n",
       "      <td>260</td>\n",
       "      <td>280</td>\n",
       "      <td>235</td>\n",
       "      <td>1725</td>\n",
       "      <td>5502</td>\n",
       "      <td>3600</td>\n",
       "      <td>813</td>\n",
       "      <td>228</td>\n",
       "      <td>138</td>\n",
       "      <td>0</td>\n",
       "      <td>4722</td>\n",
       "      <td>0</td>\n",
       "      <td>0</td>\n",
       "      <td>5460</td>\n",
       "      <td>Male</td>\n",
       "      <td>73</td>\n",
       "      <td>Married</td>\n",
       "      <td>No Grade Completed</td>\n",
       "      <td>With Job/Business</td>\n",
       "      <td>Inland and coastal waters fishermen</td>\n",
       "      <td>Self-employed wihout any employee</td>\n",
       "      <td>Single Family</td>\n",
       "      <td>2</td>\n",
       "      <td>0</td>\n",
       "      <td>0</td>\n",
       "      <td>1</td>\n",
       "      <td>Single house</td>\n",
       "      <td>Light material (cogon,nipa,anahaw)</td>\n",
       "      <td>Light</td>\n",
       "      <td>20</td>\n",
       "      <td>3</td>\n",
       "      <td>0</td>\n",
       "      <td>Own house, rent-free lot with consent of owner</td>\n",
       "      <td>Water-sealed, sewer septic tank, shared with o...</td>\n",
       "      <td>0</td>\n",
       "      <td>Own use, tubed/piped deep well</td>\n",
       "      <td>0</td>\n",
       "      <td>0</td>\n",
       "      <td>0</td>\n",
       "      <td>0</td>\n",
       "      <td>0</td>\n",
       "      <td>0</td>\n",
       "      <td>0</td>\n",
       "      <td>0</td>\n",
       "      <td>0</td>\n",
       "      <td>0</td>\n",
       "      <td>0</td>\n",
       "      <td>0</td>\n",
       "      <td>0</td>\n",
       "      <td>44339</td>\n",
       "    </tr>\n",
       "  </tbody>\n",
       "</table>\n",
       "</div>"
      ],
      "text/plain": [
       "   Index            Region  Total Food Expenditure  \\\n",
       "0  22617               CAR                   81940   \n",
       "1  21389  V - Bicol Region                   26176   \n",
       "\n",
       "        Main Source of Income  Agricultural Household indicator  \\\n",
       "0  Enterpreneurial Activities                                 1   \n",
       "1     Other sources of Income                                 0   \n",
       "\n",
       "   Bread and Cereals Expenditure  Total Rice Expenditure  Meat Expenditure  \\\n",
       "0                          44171                   40336              9053   \n",
       "1                          14477                   13067               722   \n",
       "\n",
       "   Total Fish and  marine products Expenditure  Fruit Expenditure  \\\n",
       "0                                         4499               5245   \n",
       "1                                         3707                755   \n",
       "\n",
       "   Vegetables Expenditure  Restaurant and hotels Expenditure  \\\n",
       "0                    6625                               2410   \n",
       "1                    1560                                260   \n",
       "\n",
       "   Alcoholic Beverages Expenditure  Tobacco Expenditure  \\\n",
       "0                              145                    0   \n",
       "1                              280                  235   \n",
       "\n",
       "   Clothing, Footwear and Other Wear Expenditure  \\\n",
       "0                                           1769   \n",
       "1                                           1725   \n",
       "\n",
       "   Housing and water Expenditure  Imputed House Rental Value  \\\n",
       "0                          12300                        3600   \n",
       "1                           5502                        3600   \n",
       "\n",
       "   Medical Care Expenditure  Transportation Expenditure  \\\n",
       "0                       544                        2700   \n",
       "1                       813                         228   \n",
       "\n",
       "   Communication Expenditure  Education Expenditure  \\\n",
       "0                        636                      0   \n",
       "1                        138                      0   \n",
       "\n",
       "   Miscellaneous Goods and Services Expenditure  \\\n",
       "0                                          5466   \n",
       "1                                          4722   \n",
       "\n",
       "   Special Occasions Expenditure  Crop Farming and Gardening expenses  \\\n",
       "0                           5150                                22300   \n",
       "1                              0                                    0   \n",
       "\n",
       "   Total Income from Entrepreneurial Acitivites Household Head Sex  \\\n",
       "0                                         46100               Male   \n",
       "1                                          5460               Male   \n",
       "\n",
       "   Household Head Age Household Head Marital Status  \\\n",
       "0                  63                       Married   \n",
       "1                  73                       Married   \n",
       "\n",
       "  Household Head Highest Grade Completed  \\\n",
       "0                    Elementary Graduate   \n",
       "1                     No Grade Completed   \n",
       "\n",
       "  Household Head Job or Business Indicator  \\\n",
       "0                        With Job/Business   \n",
       "1                        With Job/Business   \n",
       "\n",
       "             Household Head Occupation     Household Head Class of Worker  \\\n",
       "0               Carpenters and joiners   Worked for private establishment   \n",
       "1  Inland and coastal waters fishermen  Self-employed wihout any employee   \n",
       "\n",
       "  Type of Household  Total Number of Family members  \\\n",
       "0   Extended Family                               6   \n",
       "1     Single Family                               2   \n",
       "\n",
       "   Members with age less than 5 year old  Members with age 5 - 17 years old  \\\n",
       "0                                      2                                  1   \n",
       "1                                      0                                  0   \n",
       "\n",
       "   Total number of family members employed Type of Building/House  \\\n",
       "0                                        2           Single house   \n",
       "1                                        1           Single house   \n",
       "\n",
       "                                        Type of Roof Type of Walls  \\\n",
       "0  Strong material(galvanized,iron,al,tile,concre...        Strong   \n",
       "1                 Light material (cogon,nipa,anahaw)         Light   \n",
       "\n",
       "   House Floor Area  House Age  Number of bedrooms  \\\n",
       "0               342         30                   2   \n",
       "1                20          3                   0   \n",
       "\n",
       "                                    Tenure Status  \\\n",
       "0   Own or owner-like possession of house and lot   \n",
       "1  Own house, rent-free lot with consent of owner   \n",
       "\n",
       "                                   Toilet Facilities  Electricity  \\\n",
       "0  Water-sealed, sewer septic tank, used exclusiv...            1   \n",
       "1  Water-sealed, sewer septic tank, shared with o...            0   \n",
       "\n",
       "            Main Source of Water Supply  Number of Television  \\\n",
       "0  Protected spring, river, stream, etc                     0   \n",
       "1        Own use, tubed/piped deep well                     0   \n",
       "\n",
       "   Number of CD/VCD/DVD  Number of Component/Stereo set  \\\n",
       "0                     0                               0   \n",
       "1                     0                               0   \n",
       "\n",
       "   Number of Refrigerator/Freezer  Number of Washing Machine  \\\n",
       "0                               0                          1   \n",
       "1                               0                          0   \n",
       "\n",
       "   Number of Airconditioner  Number of Car, Jeep, Van  \\\n",
       "0                         0                         0   \n",
       "1                         0                         0   \n",
       "\n",
       "   Number of Landline/wireless telephones  Number of Cellular phone  \\\n",
       "0                                       0                         2   \n",
       "1                                       0                         0   \n",
       "\n",
       "   Number of Personal Computer  Number of Stove with Oven/Gas Range  \\\n",
       "0                            0                                    0   \n",
       "1                            0                                    0   \n",
       "\n",
       "   Number of Motorized Banca  Number of Motorcycle/Tricycle  \\\n",
       "0                          0                              0   \n",
       "1                          0                              0   \n",
       "\n",
       "   Total Household Income  \n",
       "0                  115835  \n",
       "1                   44339  "
      ]
     },
     "execution_count": 52,
     "metadata": {},
     "output_type": "execute_result"
    }
   ],
   "source": [
    "train_data.head(2)"
   ]
  },
  {
   "cell_type": "code",
   "execution_count": 53,
   "metadata": {
    "collapsed": false
   },
   "outputs": [
    {
     "data": {
      "text/plain": [
       "Index(['Region', 'Main Source of Income', 'Household Head Sex',\n",
       "       'Household Head Marital Status',\n",
       "       'Household Head Highest Grade Completed',\n",
       "       'Household Head Job or Business Indicator', 'Household Head Occupation',\n",
       "       'Household Head Class of Worker', 'Type of Household',\n",
       "       'Type of Building/House', 'Type of Roof', 'Type of Walls',\n",
       "       'Tenure Status', 'Toilet Facilities', 'Main Source of Water Supply'],\n",
       "      dtype='object')"
      ]
     },
     "execution_count": 53,
     "metadata": {},
     "output_type": "execute_result"
    }
   ],
   "source": [
    "numerics = ['object']\n",
    "\n",
    "newdf = train_data.select_dtypes(include=numerics)\n",
    "newdf.columns"
   ]
  },
  {
   "cell_type": "code",
   "execution_count": 54,
   "metadata": {
    "collapsed": true
   },
   "outputs": [],
   "source": [
    "response_variable = 'Total Household Income'\n",
    "\n",
    "continuous_vars = ['Total Food Expenditure', \n",
    "                   'Bread and Cereals Expenditure', 'Total Rice Expenditure',\n",
    "                   'Meat Expenditure', 'Total Fish and  marine products Expenditure',\n",
    "                   'Fruit Expenditure', 'Vegetables Expenditure',\n",
    "                   'Restaurant and hotels Expenditure', 'Alcoholic Beverages Expenditure',\n",
    "                   'Tobacco Expenditure', 'Clothing, Footwear and Other Wear Expenditure',\n",
    "                   'Housing and water Expenditure', 'Imputed House Rental Value',\n",
    "                   'Medical Care Expenditure', 'Transportation Expenditure','Communication Expenditure', 'Education Expenditure',\n",
    "                   'Miscellaneous Goods and Services Expenditure', 'Special Occasions Expenditure', 'Crop Farming and Gardening expenses',\n",
    "                   'Total Income from Entrepreneurial Acitivites', 'House Floor Area']\n",
    "\n",
    "nominal_vars = ['Agricultural Household indicator', 'Region', 'Main Source of Income', \n",
    "                'Household Head Sex','Household Head Marital Status',\n",
    "                'Household Head Highest Grade Completed',\n",
    "                'Household Head Job or Business Indicator', 'Household Head Occupation',\n",
    "                'Household Head Class of Worker', 'Type of Household',\n",
    "                'Type of Building/House', 'Type of Roof', 'Type of Walls',\n",
    "                'Tenure Status', 'Toilet Facilities', 'Main Source of Water Supply']\n",
    "\n",
    "binary_vars =  ['Electricity']\n",
    "\n",
    "ordinal_vars = ['Household Head Age','Number of bedrooms','House Age','Number of Television', 'Number of CD/VCD/DVD',\n",
    "                'Total Number of Family members','Number of Component/Stereo set', 'Number of Refrigerator/Freezer',\n",
    "                'Number of Washing Machine', 'Number of Airconditioner',\n",
    "                'Number of Car, Jeep, Van', 'Number of Landline/wireless telephones',\n",
    "                'Number of Cellular phone', 'Number of Personal Computer',\n",
    "                'Number of Stove with Oven/Gas Range', 'Number of Motorized Banca',\n",
    "                'Number of Motorcycle/Tricycle','Members with age less than 5 year old','Members with age 5 - 17 years old','Total number of family members employed'] "
   ]
  },
  {
   "cell_type": "code",
   "execution_count": 55,
   "metadata": {
    "collapsed": false
   },
   "outputs": [
    {
     "name": "stdout",
     "output_type": "stream",
     "text": [
      "Continuous Set has 22 columns\n"
     ]
    }
   ],
   "source": [
    "train_continuous = train_data[continuous_vars]\n",
    "train_categorical = train_data[nominal_vars + binary_vars + ordinal_vars]\n",
    "train_ordinal = train_data[ordinal_vars]\n",
    "train_y = train_data[response_variable]\n",
    "\n",
    "test_continuous = test_data[continuous_vars]\n",
    "\n",
    "\n",
    "print('Continuous Set has ' + str(len(train_continuous.columns)) + ' columns')"
   ]
  },
  {
   "cell_type": "code",
   "execution_count": 47,
   "metadata": {
    "collapsed": false
   },
   "outputs": [
    {
     "name": "stderr",
     "output_type": "stream",
     "text": [
      "/opt/conda/lib/python3.5/site-packages/sklearn/utils/validation.py:429: DataConversionWarning: Data with input dtype int64 was converted to float64 by StandardScaler.\n",
      "  warnings.warn(msg, _DataConversionWarning)\n",
      "/opt/conda/lib/python3.5/site-packages/sklearn/preprocessing/data.py:586: DeprecationWarning: Passing 1d arrays as data is deprecated in 0.17 and will raise ValueError in 0.19. Reshape your data either using X.reshape(-1, 1) if your data has a single feature or X.reshape(1, -1) if it contains a single sample.\n",
      "  warnings.warn(DEPRECATION_MSG_1D, DeprecationWarning)\n",
      "/opt/conda/lib/python3.5/site-packages/sklearn/preprocessing/data.py:649: DeprecationWarning: Passing 1d arrays as data is deprecated in 0.17 and will raise ValueError in 0.19. Reshape your data either using X.reshape(-1, 1) if your data has a single feature or X.reshape(1, -1) if it contains a single sample.\n",
      "  warnings.warn(DEPRECATION_MSG_1D, DeprecationWarning)\n"
     ]
    }
   ],
   "source": [
    "xScaler = StandardScaler()\n",
    "train_continuous_scaled = pd.DataFrame(xScaler.fit_transform(train_continuous))\n",
    "test_continuous_scaled = pd.DataFrame(xScaler.transform(test_continuous))\n",
    "\n",
    "yScaler = StandardScaler()\n",
    "train_y_scaled = pd.DataFrame(yScaler.fit_transform(train_y))"
   ]
  },
  {
   "cell_type": "code",
   "execution_count": 48,
   "metadata": {
    "collapsed": false
   },
   "outputs": [
    {
     "data": {
      "text/plain": [
       "<nn.NeuralNetwork at 0x7f11f79897b8>"
      ]
     },
     "execution_count": 48,
     "metadata": {},
     "output_type": "execute_result"
    }
   ],
   "source": [
    "nn = NeuralNetwork(22)\n",
    "nn.add_layer(30).add_layer(20).add_layer(10).add_layer(1, \"identity\", bias = False)"
   ]
  },
  {
   "cell_type": "code",
   "execution_count": 49,
   "metadata": {
    "collapsed": false
   },
   "outputs": [
    {
     "ename": "OverflowError",
     "evalue": "Python int too large to convert to C long",
     "output_type": "error",
     "traceback": [
      "\u001b[0;31m---------------------------------------------------------------------------\u001b[0m",
      "\u001b[0;31mOverflowError\u001b[0m                             Traceback (most recent call last)",
      "\u001b[0;32m<ipython-input-49-ddd9ee388e01>\u001b[0m in \u001b[0;36m<module>\u001b[0;34m()\u001b[0m\n\u001b[0;32m----> 1\u001b[0;31m \u001b[0mnn\u001b[0m\u001b[0;34m.\u001b[0m\u001b[0mfit\u001b[0m\u001b[0;34m(\u001b[0m\u001b[0mtrain_continuous_scaled\u001b[0m\u001b[0;34m.\u001b[0m\u001b[0mastype\u001b[0m\u001b[0;34m(\u001b[0m\u001b[0mfloat\u001b[0m\u001b[0;34m)\u001b[0m\u001b[0;34m.\u001b[0m\u001b[0mas_matrix\u001b[0m\u001b[0;34m(\u001b[0m\u001b[0;34m)\u001b[0m\u001b[0;34m,\u001b[0m \u001b[0mpd\u001b[0m\u001b[0;34m.\u001b[0m\u001b[0mDataFrame\u001b[0m\u001b[0;34m(\u001b[0m\u001b[0mtrain_y_scaled\u001b[0m\u001b[0;34m)\u001b[0m\u001b[0;34m.\u001b[0m\u001b[0mastype\u001b[0m\u001b[0;34m(\u001b[0m\u001b[0mfloat\u001b[0m\u001b[0;34m)\u001b[0m\u001b[0;34m.\u001b[0m\u001b[0mas_matrix\u001b[0m\u001b[0;34m(\u001b[0m\u001b[0;34m)\u001b[0m\u001b[0;34m,\u001b[0m \u001b[0meta\u001b[0m \u001b[0;34m=\u001b[0m \u001b[0;36m0.01\u001b[0m\u001b[0;34m,\u001b[0m \u001b[0mepochs\u001b[0m \u001b[0;34m=\u001b[0m \u001b[0;36m10\u001b[0m\u001b[0;34m)\u001b[0m\u001b[0;34m\u001b[0m\u001b[0m\n\u001b[0m",
      "\u001b[0;32m/home/ndara/Project2/FilipinoHousing/nn.py\u001b[0m in \u001b[0;36mfit\u001b[0;34m(self, X, Y, eta, epochs, batch_size)\u001b[0m\n\u001b[1;32m    213\u001b[0m             \u001b[0;32mfor\u001b[0m \u001b[0mi\u001b[0m \u001b[0;32min\u001b[0m \u001b[0mrange\u001b[0m\u001b[0;34m(\u001b[0m\u001b[0;36m0\u001b[0m\u001b[0;34m,\u001b[0m \u001b[0mX\u001b[0m\u001b[0;34m.\u001b[0m\u001b[0mshape\u001b[0m\u001b[0;34m[\u001b[0m\u001b[0;36m0\u001b[0m\u001b[0;34m]\u001b[0m\u001b[0;34m,\u001b[0m \u001b[0mbatch_size\u001b[0m\u001b[0;34m)\u001b[0m\u001b[0;34m:\u001b[0m\u001b[0;34m\u001b[0m\u001b[0m\n\u001b[1;32m    214\u001b[0m                 \u001b[0mend_point\u001b[0m \u001b[0;34m=\u001b[0m \u001b[0mmin\u001b[0m\u001b[0;34m(\u001b[0m\u001b[0mi\u001b[0m \u001b[0;34m+\u001b[0m \u001b[0mbatch_size\u001b[0m\u001b[0;34m,\u001b[0m \u001b[0mX\u001b[0m\u001b[0;34m.\u001b[0m\u001b[0mshape\u001b[0m\u001b[0;34m[\u001b[0m\u001b[0;36m0\u001b[0m\u001b[0;34m]\u001b[0m\u001b[0;34m)\u001b[0m\u001b[0;34m\u001b[0m\u001b[0m\n\u001b[0;32m--> 215\u001b[0;31m                 \u001b[0mself\u001b[0m\u001b[0;34m.\u001b[0m\u001b[0mupdate\u001b[0m\u001b[0;34m(\u001b[0m\u001b[0mX\u001b[0m\u001b[0;34m[\u001b[0m\u001b[0mi\u001b[0m\u001b[0;34m:\u001b[0m\u001b[0mend_point\u001b[0m\u001b[0;34m,\u001b[0m\u001b[0;34m:\u001b[0m\u001b[0;34m]\u001b[0m\u001b[0;34m,\u001b[0m \u001b[0mY\u001b[0m\u001b[0;34m[\u001b[0m\u001b[0mi\u001b[0m\u001b[0;34m:\u001b[0m\u001b[0mend_point\u001b[0m\u001b[0;34m]\u001b[0m\u001b[0;34m,\u001b[0m \u001b[0meta\u001b[0m\u001b[0;34m)\u001b[0m\u001b[0;34m\u001b[0m\u001b[0m\n\u001b[0m\u001b[1;32m    216\u001b[0m \u001b[0;34m\u001b[0m\u001b[0m\n\u001b[1;32m    217\u001b[0m     \u001b[0;32mdef\u001b[0m \u001b[0mupdate\u001b[0m\u001b[0;34m(\u001b[0m\u001b[0mself\u001b[0m\u001b[0;34m,\u001b[0m \u001b[0mx\u001b[0m\u001b[0;34m,\u001b[0m \u001b[0my\u001b[0m\u001b[0;34m,\u001b[0m \u001b[0meta\u001b[0m\u001b[0;34m)\u001b[0m\u001b[0;34m:\u001b[0m\u001b[0;34m\u001b[0m\u001b[0m\n",
      "\u001b[0;32m/home/ndara/Project2/FilipinoHousing/nn.py\u001b[0m in \u001b[0;36mupdate\u001b[0;34m(self, x, y, eta)\u001b[0m\n\u001b[1;32m    222\u001b[0m           \u001b[0;34m-\u001b[0m \u001b[0my\u001b[0m\u001b[0;34m:\u001b[0m \u001b[0ma\u001b[0m \u001b[0mfloat\u001b[0m \u001b[0mrepresenting\u001b[0m \u001b[0mthe\u001b[0m \u001b[0moutput\u001b[0m\u001b[0;34m\u001b[0m\u001b[0m\n\u001b[1;32m    223\u001b[0m         \"\"\"\n\u001b[0;32m--> 224\u001b[0;31m         \u001b[0mprediction\u001b[0m \u001b[0;34m=\u001b[0m \u001b[0mself\u001b[0m\u001b[0;34m.\u001b[0m\u001b[0mpredict\u001b[0m\u001b[0;34m(\u001b[0m\u001b[0mx\u001b[0m\u001b[0;34m)\u001b[0m\u001b[0;34m\u001b[0m\u001b[0m\n\u001b[0m\u001b[1;32m    225\u001b[0m         \u001b[0mdldh\u001b[0m \u001b[0;34m=\u001b[0m \u001b[0mself\u001b[0m\u001b[0;34m.\u001b[0m\u001b[0mcost_derivative\u001b[0m\u001b[0;34m(\u001b[0m\u001b[0my\u001b[0m\u001b[0;34m,\u001b[0m \u001b[0mprediction\u001b[0m\u001b[0;34m)\u001b[0m\u001b[0;34m\u001b[0m\u001b[0m\n\u001b[1;32m    226\u001b[0m         \u001b[0;32mfor\u001b[0m \u001b[0mi\u001b[0m\u001b[0;34m,\u001b[0m \u001b[0mlayer\u001b[0m \u001b[0;32min\u001b[0m \u001b[0menumerate\u001b[0m\u001b[0;34m(\u001b[0m\u001b[0mself\u001b[0m\u001b[0;34m.\u001b[0m\u001b[0mlayers\u001b[0m\u001b[0;34m[\u001b[0m\u001b[0;34m:\u001b[0m\u001b[0;34m:\u001b[0m\u001b[0;34m-\u001b[0m\u001b[0;36m1\u001b[0m\u001b[0;34m]\u001b[0m\u001b[0;34m)\u001b[0m\u001b[0;34m:\u001b[0m\u001b[0;34m\u001b[0m\u001b[0m\n",
      "\u001b[0;32m/home/ndara/Project2/FilipinoHousing/nn.py\u001b[0m in \u001b[0;36mpredict\u001b[0;34m(self, x)\u001b[0m\n\u001b[1;32m    183\u001b[0m \u001b[0;34m\u001b[0m\u001b[0m\n\u001b[1;32m    184\u001b[0m         \u001b[0;32mfor\u001b[0m \u001b[0mlayer\u001b[0m \u001b[0;32min\u001b[0m \u001b[0mself\u001b[0m\u001b[0;34m.\u001b[0m\u001b[0mlayers\u001b[0m\u001b[0;34m:\u001b[0m\u001b[0;34m\u001b[0m\u001b[0m\n\u001b[0;32m--> 185\u001b[0;31m             \u001b[0moutput\u001b[0m \u001b[0;34m=\u001b[0m \u001b[0mlayer\u001b[0m\u001b[0;34m.\u001b[0m\u001b[0mforward_prop\u001b[0m\u001b[0;34m(\u001b[0m\u001b[0moutput\u001b[0m\u001b[0;34m)\u001b[0m\u001b[0;34m\u001b[0m\u001b[0m\n\u001b[0m\u001b[1;32m    186\u001b[0m \u001b[0;34m\u001b[0m\u001b[0m\n\u001b[1;32m    187\u001b[0m         \u001b[0;32mreturn\u001b[0m \u001b[0moutput\u001b[0m\u001b[0;34m\u001b[0m\u001b[0m\n",
      "\u001b[0;32m/home/ndara/Project2/FilipinoHousing/nn.py\u001b[0m in \u001b[0;36mforward_prop\u001b[0;34m(self, inputs)\u001b[0m\n\u001b[1;32m     82\u001b[0m     \u001b[0;32mdef\u001b[0m \u001b[0mforward_prop\u001b[0m\u001b[0;34m(\u001b[0m\u001b[0mself\u001b[0m\u001b[0;34m,\u001b[0m \u001b[0minputs\u001b[0m\u001b[0;34m)\u001b[0m\u001b[0;34m:\u001b[0m\u001b[0;34m\u001b[0m\u001b[0m\n\u001b[1;32m     83\u001b[0m         \u001b[0mself\u001b[0m\u001b[0;34m.\u001b[0m\u001b[0minputs\u001b[0m \u001b[0;34m=\u001b[0m \u001b[0minputs\u001b[0m\u001b[0;34m\u001b[0m\u001b[0m\n\u001b[0;32m---> 84\u001b[0;31m         \u001b[0;32mreturn\u001b[0m \u001b[0mself\u001b[0m\u001b[0;34m.\u001b[0m\u001b[0mactivate\u001b[0m\u001b[0;34m(\u001b[0m\u001b[0minputs\u001b[0m\u001b[0;34m.\u001b[0m\u001b[0mdot\u001b[0m\u001b[0;34m(\u001b[0m\u001b[0mself\u001b[0m\u001b[0;34m.\u001b[0m\u001b[0mweights\u001b[0m\u001b[0;34m)\u001b[0m\u001b[0;34m)\u001b[0m\u001b[0;34m\u001b[0m\u001b[0m\n\u001b[0m\u001b[1;32m     85\u001b[0m \u001b[0;34m\u001b[0m\u001b[0m\n\u001b[1;32m     86\u001b[0m     \u001b[0;32mdef\u001b[0m \u001b[0mactivate\u001b[0m\u001b[0;34m(\u001b[0m\u001b[0mself\u001b[0m\u001b[0;34m,\u001b[0m \u001b[0mweighted_sums\u001b[0m\u001b[0;34m)\u001b[0m\u001b[0;34m:\u001b[0m\u001b[0;34m\u001b[0m\u001b[0m\n",
      "\u001b[0;32m/home/ndara/Project2/FilipinoHousing/nn.py\u001b[0m in \u001b[0;36mactivate\u001b[0;34m(self, weighted_sums)\u001b[0m\n\u001b[1;32m     93\u001b[0m           \u001b[0mA\u001b[0m \u001b[0mmatrix\u001b[0m \u001b[0mof\u001b[0m \u001b[0mthe\u001b[0m \u001b[0msame\u001b[0m \u001b[0msize\u001b[0m \u001b[0;34m(\u001b[0m\u001b[0mplus\u001b[0m \u001b[0mone\u001b[0m \u001b[0mcolumn\u001b[0m \u001b[0;32mif\u001b[0m \u001b[0mbias\u001b[0m \u001b[0;32mis\u001b[0m \u001b[0mwanted\u001b[0m\u001b[0;34m)\u001b[0m \u001b[0mwhere\u001b[0m \u001b[0meach\u001b[0m \u001b[0mvalue\u001b[0m \u001b[0mhas\u001b[0m \u001b[0mbeen\u001b[0m \u001b[0mactivated\u001b[0m\u001b[0;34m.\u001b[0m\u001b[0;34m\u001b[0m\u001b[0m\n\u001b[1;32m     94\u001b[0m         \"\"\"\n\u001b[0;32m---> 95\u001b[0;31m         \u001b[0mactivated_values\u001b[0m \u001b[0;34m=\u001b[0m \u001b[0mself\u001b[0m\u001b[0;34m.\u001b[0m\u001b[0mactivation_function\u001b[0m\u001b[0;34m(\u001b[0m\u001b[0mweighted_sums\u001b[0m\u001b[0;34m)\u001b[0m\u001b[0;34m\u001b[0m\u001b[0m\n\u001b[0m\u001b[1;32m     96\u001b[0m         \u001b[0;32mif\u001b[0m \u001b[0mself\u001b[0m\u001b[0;34m.\u001b[0m\u001b[0mbias\u001b[0m\u001b[0;34m:\u001b[0m\u001b[0;34m\u001b[0m\u001b[0m\n\u001b[1;32m     97\u001b[0m             \u001b[0mbias_column\u001b[0m \u001b[0;34m=\u001b[0m \u001b[0mnp\u001b[0m\u001b[0;34m.\u001b[0m\u001b[0mones\u001b[0m\u001b[0;34m(\u001b[0m\u001b[0;34m(\u001b[0m\u001b[0mweighted_sums\u001b[0m\u001b[0;34m.\u001b[0m\u001b[0mshape\u001b[0m\u001b[0;34m[\u001b[0m\u001b[0;36m0\u001b[0m\u001b[0;34m]\u001b[0m\u001b[0;34m,\u001b[0m\u001b[0;36m1\u001b[0m\u001b[0;34m)\u001b[0m\u001b[0;34m)\u001b[0m\u001b[0;34m\u001b[0m\u001b[0m\n",
      "\u001b[0;32m/opt/conda/lib/python3.5/site-packages/numpy/lib/function_base.py\u001b[0m in \u001b[0;36m__call__\u001b[0;34m(self, *args, **kwargs)\u001b[0m\n\u001b[1;32m   2216\u001b[0m             \u001b[0mvargs\u001b[0m\u001b[0;34m.\u001b[0m\u001b[0mextend\u001b[0m\u001b[0;34m(\u001b[0m\u001b[0;34m[\u001b[0m\u001b[0mkwargs\u001b[0m\u001b[0;34m[\u001b[0m\u001b[0m_n\u001b[0m\u001b[0;34m]\u001b[0m \u001b[0;32mfor\u001b[0m \u001b[0m_n\u001b[0m \u001b[0;32min\u001b[0m \u001b[0mnames\u001b[0m\u001b[0;34m]\u001b[0m\u001b[0;34m)\u001b[0m\u001b[0;34m\u001b[0m\u001b[0m\n\u001b[1;32m   2217\u001b[0m \u001b[0;34m\u001b[0m\u001b[0m\n\u001b[0;32m-> 2218\u001b[0;31m         \u001b[0;32mreturn\u001b[0m \u001b[0mself\u001b[0m\u001b[0;34m.\u001b[0m\u001b[0m_vectorize_call\u001b[0m\u001b[0;34m(\u001b[0m\u001b[0mfunc\u001b[0m\u001b[0;34m=\u001b[0m\u001b[0mfunc\u001b[0m\u001b[0;34m,\u001b[0m \u001b[0margs\u001b[0m\u001b[0;34m=\u001b[0m\u001b[0mvargs\u001b[0m\u001b[0;34m)\u001b[0m\u001b[0;34m\u001b[0m\u001b[0m\n\u001b[0m\u001b[1;32m   2219\u001b[0m \u001b[0;34m\u001b[0m\u001b[0m\n\u001b[1;32m   2220\u001b[0m     \u001b[0;32mdef\u001b[0m \u001b[0m_get_ufunc_and_otypes\u001b[0m\u001b[0;34m(\u001b[0m\u001b[0mself\u001b[0m\u001b[0;34m,\u001b[0m \u001b[0mfunc\u001b[0m\u001b[0;34m,\u001b[0m \u001b[0margs\u001b[0m\u001b[0;34m)\u001b[0m\u001b[0;34m:\u001b[0m\u001b[0;34m\u001b[0m\u001b[0m\n",
      "\u001b[0;32m/opt/conda/lib/python3.5/site-packages/numpy/lib/function_base.py\u001b[0m in \u001b[0;36m_vectorize_call\u001b[0;34m(self, func, args)\u001b[0m\n\u001b[1;32m   2289\u001b[0m             \u001b[0;32mif\u001b[0m \u001b[0mufunc\u001b[0m\u001b[0;34m.\u001b[0m\u001b[0mnout\u001b[0m \u001b[0;34m==\u001b[0m \u001b[0;36m1\u001b[0m\u001b[0;34m:\u001b[0m\u001b[0;34m\u001b[0m\u001b[0m\n\u001b[1;32m   2290\u001b[0m                 _res = array(outputs,\n\u001b[0;32m-> 2291\u001b[0;31m                              copy=False, subok=True, dtype=otypes[0])\n\u001b[0m\u001b[1;32m   2292\u001b[0m             \u001b[0;32melse\u001b[0m\u001b[0;34m:\u001b[0m\u001b[0;34m\u001b[0m\u001b[0m\n\u001b[1;32m   2293\u001b[0m                 _res = tuple([array(_x, copy=False, subok=True, dtype=_t)\n",
      "\u001b[0;31mOverflowError\u001b[0m: Python int too large to convert to C long"
     ]
    }
   ],
   "source": [
    "nn.fit(train_continuous_scaled.astype(float).as_matrix(), pd.DataFrame(train_y_scaled).astype(float).as_matrix(), eta = 0.01, epochs = 10)"
   ]
  },
  {
   "cell_type": "code",
   "execution_count": 28,
   "metadata": {
    "collapsed": false
   },
   "outputs": [],
   "source": [
    "x = nn.predict(test_continuous_scaled)"
   ]
  },
  {
   "cell_type": "code",
   "execution_count": 30,
   "metadata": {
    "collapsed": false
   },
   "outputs": [
    {
     "name": "stdout",
     "output_type": "stream",
     "text": [
      "[[0]\n",
      " [0]\n",
      " [0]\n",
      " ..., \n",
      " [0]\n",
      " [0]\n",
      " [0]]\n"
     ]
    }
   ],
   "source": [
    "print(x)"
   ]
  },
  {
   "cell_type": "code",
   "execution_count": null,
   "metadata": {
    "collapsed": true
   },
   "outputs": [],
   "source": []
  }
 ],
 "metadata": {
  "kernelspec": {
   "display_name": "Python 3",
   "language": "python",
   "name": "python3"
  },
  "language_info": {
   "codemirror_mode": {
    "name": "ipython",
    "version": 3
   },
   "file_extension": ".py",
   "mimetype": "text/x-python",
   "name": "python",
   "nbconvert_exporter": "python",
   "pygments_lexer": "ipython3",
   "version": "3.5.2"
  }
 },
 "nbformat": 4,
 "nbformat_minor": 2
}
