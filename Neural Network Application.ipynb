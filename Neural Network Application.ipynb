{
 "cells": [
  {
   "cell_type": "code",
   "execution_count": 1,
   "metadata": {
    "collapsed": false
   },
   "outputs": [
    {
     "name": "stderr",
     "output_type": "stream",
     "text": [
      "Using TensorFlow backend.\n"
     ]
    }
   ],
   "source": [
    "import pandas as pd\n",
    "pd.set_option('display.max_columns', None)\n",
    "import numpy as np\n",
    "\n",
    "# Viz\n",
    "import seaborn as sns\n",
    "import matplotlib.pyplot as plt\n",
    "%matplotlib inline\n",
    "\n",
    "# Feature Engineering\n",
    "from sklearn.preprocessing import StandardScaler\n",
    "from sklearn.feature_extraction.text import TfidfVectorizer\n",
    "\n",
    "# Model Storage\n",
    "from sklearn.externals import joblib\n",
    "\n",
    "# Metrics\n",
    "from sklearn.metrics import mean_squared_error\n",
    "\n",
    "# Model Evaluation\n",
    "from sklearn.model_selection import cross_val_score\n",
    "from sklearn.model_selection import train_test_split\n",
    "from sklearn.model_selection import ShuffleSplit\n",
    "\n",
    "# NN\n",
    "import keras as k\n",
    "from keras.models import Sequential\n",
    "from keras.layers import Dense, Activation\n",
    "\n",
    "##\n",
    "from nn import NeuralNetwork\n",
    "import nn "
   ]
  },
  {
   "cell_type": "code",
   "execution_count": 2,
   "metadata": {
    "collapsed": false
   },
   "outputs": [
    {
     "name": "stdout",
     "output_type": "stream",
     "text": [
      "Train Data Rows:  33235\n",
      "Test Data Rows:  8309\n"
     ]
    }
   ],
   "source": [
    "train_data = pd.read_csv(\"/data/project2/train.csv\")\n",
    "test_data = pd.read_csv(\"/data/project2/test.csv\")\n",
    "print(\"Train Data Rows: \", len(train_data))\n",
    "print(\"Test Data Rows: \", len(test_data))"
   ]
  },
  {
   "cell_type": "code",
   "execution_count": 3,
   "metadata": {
    "collapsed": false
   },
   "outputs": [
    {
     "data": {
      "text/html": [
       "<div>\n",
       "<table border=\"1\" class=\"dataframe\">\n",
       "  <thead>\n",
       "    <tr style=\"text-align: right;\">\n",
       "      <th></th>\n",
       "      <th>Index</th>\n",
       "      <th>Region</th>\n",
       "      <th>Total Food Expenditure</th>\n",
       "      <th>Main Source of Income</th>\n",
       "      <th>Agricultural Household indicator</th>\n",
       "      <th>Bread and Cereals Expenditure</th>\n",
       "      <th>Total Rice Expenditure</th>\n",
       "      <th>Meat Expenditure</th>\n",
       "      <th>Total Fish and  marine products Expenditure</th>\n",
       "      <th>Fruit Expenditure</th>\n",
       "      <th>Vegetables Expenditure</th>\n",
       "      <th>Restaurant and hotels Expenditure</th>\n",
       "      <th>Alcoholic Beverages Expenditure</th>\n",
       "      <th>Tobacco Expenditure</th>\n",
       "      <th>Clothing, Footwear and Other Wear Expenditure</th>\n",
       "      <th>Housing and water Expenditure</th>\n",
       "      <th>Imputed House Rental Value</th>\n",
       "      <th>Medical Care Expenditure</th>\n",
       "      <th>Transportation Expenditure</th>\n",
       "      <th>Communication Expenditure</th>\n",
       "      <th>Education Expenditure</th>\n",
       "      <th>Miscellaneous Goods and Services Expenditure</th>\n",
       "      <th>Special Occasions Expenditure</th>\n",
       "      <th>Crop Farming and Gardening expenses</th>\n",
       "      <th>Total Income from Entrepreneurial Acitivites</th>\n",
       "      <th>Household Head Sex</th>\n",
       "      <th>Household Head Age</th>\n",
       "      <th>Household Head Marital Status</th>\n",
       "      <th>Household Head Highest Grade Completed</th>\n",
       "      <th>Household Head Job or Business Indicator</th>\n",
       "      <th>Household Head Occupation</th>\n",
       "      <th>Household Head Class of Worker</th>\n",
       "      <th>Type of Household</th>\n",
       "      <th>Total Number of Family members</th>\n",
       "      <th>Members with age less than 5 year old</th>\n",
       "      <th>Members with age 5 - 17 years old</th>\n",
       "      <th>Total number of family members employed</th>\n",
       "      <th>Type of Building/House</th>\n",
       "      <th>Type of Roof</th>\n",
       "      <th>Type of Walls</th>\n",
       "      <th>House Floor Area</th>\n",
       "      <th>House Age</th>\n",
       "      <th>Number of bedrooms</th>\n",
       "      <th>Tenure Status</th>\n",
       "      <th>Toilet Facilities</th>\n",
       "      <th>Electricity</th>\n",
       "      <th>Main Source of Water Supply</th>\n",
       "      <th>Number of Television</th>\n",
       "      <th>Number of CD/VCD/DVD</th>\n",
       "      <th>Number of Component/Stereo set</th>\n",
       "      <th>Number of Refrigerator/Freezer</th>\n",
       "      <th>Number of Washing Machine</th>\n",
       "      <th>Number of Airconditioner</th>\n",
       "      <th>Number of Car, Jeep, Van</th>\n",
       "      <th>Number of Landline/wireless telephones</th>\n",
       "      <th>Number of Cellular phone</th>\n",
       "      <th>Number of Personal Computer</th>\n",
       "      <th>Number of Stove with Oven/Gas Range</th>\n",
       "      <th>Number of Motorized Banca</th>\n",
       "      <th>Number of Motorcycle/Tricycle</th>\n",
       "      <th>Total Household Income</th>\n",
       "    </tr>\n",
       "  </thead>\n",
       "  <tbody>\n",
       "    <tr>\n",
       "      <th>0</th>\n",
       "      <td>22617</td>\n",
       "      <td>CAR</td>\n",
       "      <td>81940</td>\n",
       "      <td>Enterpreneurial Activities</td>\n",
       "      <td>1</td>\n",
       "      <td>44171</td>\n",
       "      <td>40336</td>\n",
       "      <td>9053</td>\n",
       "      <td>4499</td>\n",
       "      <td>5245</td>\n",
       "      <td>6625</td>\n",
       "      <td>2410</td>\n",
       "      <td>145</td>\n",
       "      <td>0</td>\n",
       "      <td>1769</td>\n",
       "      <td>12300</td>\n",
       "      <td>3600</td>\n",
       "      <td>544</td>\n",
       "      <td>2700</td>\n",
       "      <td>636</td>\n",
       "      <td>0</td>\n",
       "      <td>5466</td>\n",
       "      <td>5150</td>\n",
       "      <td>22300</td>\n",
       "      <td>46100</td>\n",
       "      <td>Male</td>\n",
       "      <td>63</td>\n",
       "      <td>Married</td>\n",
       "      <td>Elementary Graduate</td>\n",
       "      <td>With Job/Business</td>\n",
       "      <td>Carpenters and joiners</td>\n",
       "      <td>Worked for private establishment</td>\n",
       "      <td>Extended Family</td>\n",
       "      <td>6</td>\n",
       "      <td>2</td>\n",
       "      <td>1</td>\n",
       "      <td>2</td>\n",
       "      <td>Single house</td>\n",
       "      <td>Strong material(galvanized,iron,al,tile,concre...</td>\n",
       "      <td>Strong</td>\n",
       "      <td>342</td>\n",
       "      <td>30</td>\n",
       "      <td>2</td>\n",
       "      <td>Own or owner-like possession of house and lot</td>\n",
       "      <td>Water-sealed, sewer septic tank, used exclusiv...</td>\n",
       "      <td>1</td>\n",
       "      <td>Protected spring, river, stream, etc</td>\n",
       "      <td>0</td>\n",
       "      <td>0</td>\n",
       "      <td>0</td>\n",
       "      <td>0</td>\n",
       "      <td>1</td>\n",
       "      <td>0</td>\n",
       "      <td>0</td>\n",
       "      <td>0</td>\n",
       "      <td>2</td>\n",
       "      <td>0</td>\n",
       "      <td>0</td>\n",
       "      <td>0</td>\n",
       "      <td>0</td>\n",
       "      <td>115835</td>\n",
       "    </tr>\n",
       "    <tr>\n",
       "      <th>1</th>\n",
       "      <td>21389</td>\n",
       "      <td>V - Bicol Region</td>\n",
       "      <td>26176</td>\n",
       "      <td>Other sources of Income</td>\n",
       "      <td>0</td>\n",
       "      <td>14477</td>\n",
       "      <td>13067</td>\n",
       "      <td>722</td>\n",
       "      <td>3707</td>\n",
       "      <td>755</td>\n",
       "      <td>1560</td>\n",
       "      <td>260</td>\n",
       "      <td>280</td>\n",
       "      <td>235</td>\n",
       "      <td>1725</td>\n",
       "      <td>5502</td>\n",
       "      <td>3600</td>\n",
       "      <td>813</td>\n",
       "      <td>228</td>\n",
       "      <td>138</td>\n",
       "      <td>0</td>\n",
       "      <td>4722</td>\n",
       "      <td>0</td>\n",
       "      <td>0</td>\n",
       "      <td>5460</td>\n",
       "      <td>Male</td>\n",
       "      <td>73</td>\n",
       "      <td>Married</td>\n",
       "      <td>No Grade Completed</td>\n",
       "      <td>With Job/Business</td>\n",
       "      <td>Inland and coastal waters fishermen</td>\n",
       "      <td>Self-employed wihout any employee</td>\n",
       "      <td>Single Family</td>\n",
       "      <td>2</td>\n",
       "      <td>0</td>\n",
       "      <td>0</td>\n",
       "      <td>1</td>\n",
       "      <td>Single house</td>\n",
       "      <td>Light material (cogon,nipa,anahaw)</td>\n",
       "      <td>Light</td>\n",
       "      <td>20</td>\n",
       "      <td>3</td>\n",
       "      <td>0</td>\n",
       "      <td>Own house, rent-free lot with consent of owner</td>\n",
       "      <td>Water-sealed, sewer septic tank, shared with o...</td>\n",
       "      <td>0</td>\n",
       "      <td>Own use, tubed/piped deep well</td>\n",
       "      <td>0</td>\n",
       "      <td>0</td>\n",
       "      <td>0</td>\n",
       "      <td>0</td>\n",
       "      <td>0</td>\n",
       "      <td>0</td>\n",
       "      <td>0</td>\n",
       "      <td>0</td>\n",
       "      <td>0</td>\n",
       "      <td>0</td>\n",
       "      <td>0</td>\n",
       "      <td>0</td>\n",
       "      <td>0</td>\n",
       "      <td>44339</td>\n",
       "    </tr>\n",
       "  </tbody>\n",
       "</table>\n",
       "</div>"
      ],
      "text/plain": [
       "   Index            Region  Total Food Expenditure  \\\n",
       "0  22617               CAR                   81940   \n",
       "1  21389  V - Bicol Region                   26176   \n",
       "\n",
       "        Main Source of Income  Agricultural Household indicator  \\\n",
       "0  Enterpreneurial Activities                                 1   \n",
       "1     Other sources of Income                                 0   \n",
       "\n",
       "   Bread and Cereals Expenditure  Total Rice Expenditure  Meat Expenditure  \\\n",
       "0                          44171                   40336              9053   \n",
       "1                          14477                   13067               722   \n",
       "\n",
       "   Total Fish and  marine products Expenditure  Fruit Expenditure  \\\n",
       "0                                         4499               5245   \n",
       "1                                         3707                755   \n",
       "\n",
       "   Vegetables Expenditure  Restaurant and hotels Expenditure  \\\n",
       "0                    6625                               2410   \n",
       "1                    1560                                260   \n",
       "\n",
       "   Alcoholic Beverages Expenditure  Tobacco Expenditure  \\\n",
       "0                              145                    0   \n",
       "1                              280                  235   \n",
       "\n",
       "   Clothing, Footwear and Other Wear Expenditure  \\\n",
       "0                                           1769   \n",
       "1                                           1725   \n",
       "\n",
       "   Housing and water Expenditure  Imputed House Rental Value  \\\n",
       "0                          12300                        3600   \n",
       "1                           5502                        3600   \n",
       "\n",
       "   Medical Care Expenditure  Transportation Expenditure  \\\n",
       "0                       544                        2700   \n",
       "1                       813                         228   \n",
       "\n",
       "   Communication Expenditure  Education Expenditure  \\\n",
       "0                        636                      0   \n",
       "1                        138                      0   \n",
       "\n",
       "   Miscellaneous Goods and Services Expenditure  \\\n",
       "0                                          5466   \n",
       "1                                          4722   \n",
       "\n",
       "   Special Occasions Expenditure  Crop Farming and Gardening expenses  \\\n",
       "0                           5150                                22300   \n",
       "1                              0                                    0   \n",
       "\n",
       "   Total Income from Entrepreneurial Acitivites Household Head Sex  \\\n",
       "0                                         46100               Male   \n",
       "1                                          5460               Male   \n",
       "\n",
       "   Household Head Age Household Head Marital Status  \\\n",
       "0                  63                       Married   \n",
       "1                  73                       Married   \n",
       "\n",
       "  Household Head Highest Grade Completed  \\\n",
       "0                    Elementary Graduate   \n",
       "1                     No Grade Completed   \n",
       "\n",
       "  Household Head Job or Business Indicator  \\\n",
       "0                        With Job/Business   \n",
       "1                        With Job/Business   \n",
       "\n",
       "             Household Head Occupation     Household Head Class of Worker  \\\n",
       "0               Carpenters and joiners   Worked for private establishment   \n",
       "1  Inland and coastal waters fishermen  Self-employed wihout any employee   \n",
       "\n",
       "  Type of Household  Total Number of Family members  \\\n",
       "0   Extended Family                               6   \n",
       "1     Single Family                               2   \n",
       "\n",
       "   Members with age less than 5 year old  Members with age 5 - 17 years old  \\\n",
       "0                                      2                                  1   \n",
       "1                                      0                                  0   \n",
       "\n",
       "   Total number of family members employed Type of Building/House  \\\n",
       "0                                        2           Single house   \n",
       "1                                        1           Single house   \n",
       "\n",
       "                                        Type of Roof Type of Walls  \\\n",
       "0  Strong material(galvanized,iron,al,tile,concre...        Strong   \n",
       "1                 Light material (cogon,nipa,anahaw)         Light   \n",
       "\n",
       "   House Floor Area  House Age  Number of bedrooms  \\\n",
       "0               342         30                   2   \n",
       "1                20          3                   0   \n",
       "\n",
       "                                    Tenure Status  \\\n",
       "0   Own or owner-like possession of house and lot   \n",
       "1  Own house, rent-free lot with consent of owner   \n",
       "\n",
       "                                   Toilet Facilities  Electricity  \\\n",
       "0  Water-sealed, sewer septic tank, used exclusiv...            1   \n",
       "1  Water-sealed, sewer septic tank, shared with o...            0   \n",
       "\n",
       "            Main Source of Water Supply  Number of Television  \\\n",
       "0  Protected spring, river, stream, etc                     0   \n",
       "1        Own use, tubed/piped deep well                     0   \n",
       "\n",
       "   Number of CD/VCD/DVD  Number of Component/Stereo set  \\\n",
       "0                     0                               0   \n",
       "1                     0                               0   \n",
       "\n",
       "   Number of Refrigerator/Freezer  Number of Washing Machine  \\\n",
       "0                               0                          1   \n",
       "1                               0                          0   \n",
       "\n",
       "   Number of Airconditioner  Number of Car, Jeep, Van  \\\n",
       "0                         0                         0   \n",
       "1                         0                         0   \n",
       "\n",
       "   Number of Landline/wireless telephones  Number of Cellular phone  \\\n",
       "0                                       0                         2   \n",
       "1                                       0                         0   \n",
       "\n",
       "   Number of Personal Computer  Number of Stove with Oven/Gas Range  \\\n",
       "0                            0                                    0   \n",
       "1                            0                                    0   \n",
       "\n",
       "   Number of Motorized Banca  Number of Motorcycle/Tricycle  \\\n",
       "0                          0                              0   \n",
       "1                          0                              0   \n",
       "\n",
       "   Total Household Income  \n",
       "0                  115835  \n",
       "1                   44339  "
      ]
     },
     "execution_count": 3,
     "metadata": {},
     "output_type": "execute_result"
    }
   ],
   "source": [
    "train_data.head(2)"
   ]
  },
  {
   "cell_type": "code",
   "execution_count": 4,
   "metadata": {
    "collapsed": false
   },
   "outputs": [
    {
     "data": {
      "text/plain": [
       "Index(['Region', 'Main Source of Income', 'Household Head Sex',\n",
       "       'Household Head Marital Status',\n",
       "       'Household Head Highest Grade Completed',\n",
       "       'Household Head Job or Business Indicator', 'Household Head Occupation',\n",
       "       'Household Head Class of Worker', 'Type of Household',\n",
       "       'Type of Building/House', 'Type of Roof', 'Type of Walls',\n",
       "       'Tenure Status', 'Toilet Facilities', 'Main Source of Water Supply'],\n",
       "      dtype='object')"
      ]
     },
     "execution_count": 4,
     "metadata": {},
     "output_type": "execute_result"
    }
   ],
   "source": [
    "numerics = ['object']\n",
    "\n",
    "newdf = train_data.select_dtypes(include=numerics)\n",
    "newdf.columns"
   ]
  },
  {
   "cell_type": "code",
   "execution_count": 5,
   "metadata": {
    "collapsed": true
   },
   "outputs": [],
   "source": [
    "response_variable = 'Total Household Income'\n",
    "\n",
    "continuous_vars = ['Total Food Expenditure', \n",
    "                   'Bread and Cereals Expenditure', 'Total Rice Expenditure',\n",
    "                   'Meat Expenditure', 'Total Fish and  marine products Expenditure',\n",
    "                   'Fruit Expenditure', 'Vegetables Expenditure',\n",
    "                   'Restaurant and hotels Expenditure', 'Alcoholic Beverages Expenditure',\n",
    "                   'Tobacco Expenditure', 'Clothing, Footwear and Other Wear Expenditure',\n",
    "                   'Housing and water Expenditure', 'Imputed House Rental Value',\n",
    "                   'Medical Care Expenditure', 'Transportation Expenditure','Communication Expenditure', 'Education Expenditure',\n",
    "                   'Miscellaneous Goods and Services Expenditure', 'Special Occasions Expenditure', 'Crop Farming and Gardening expenses',\n",
    "                   'Total Income from Entrepreneurial Acitivites', 'House Floor Area']\n",
    "\n",
    "nominal_vars = ['Agricultural Household indicator', 'Region', 'Main Source of Income', \n",
    "                'Household Head Sex','Household Head Marital Status',\n",
    "                'Household Head Highest Grade Completed',\n",
    "                'Household Head Job or Business Indicator', 'Household Head Occupation',\n",
    "                'Household Head Class of Worker', 'Type of Household',\n",
    "                'Type of Building/House', 'Type of Roof', 'Type of Walls',\n",
    "                'Tenure Status', 'Toilet Facilities', 'Main Source of Water Supply']\n",
    "\n",
    "interact_continuous_vars = ['Total Food Expenditure', 'Vegetables Expenditure',\n",
    "                   'Alcoholic Beverages Expenditure','Tobacco Expenditure',\n",
    "                   'Housing and water Expenditure', 'Imputed House Rental Value',\n",
    "                   'Medical Care Expenditure', 'Education Expenditure',\n",
    "                   'Crop Farming and Gardening expenses',\n",
    "                   'Total Income from Entrepreneurial Acitivites', 'House Floor Area']\n",
    "\n",
    "interact_nominal_vars = ['Agricultural Household indicator', 'Main Source of Income', \n",
    "                'Household Head Sex','Household Head Marital Status',\n",
    "                'Household Head Class of Worker',\n",
    "                'Type of Building/House',\n",
    "                'Tenure Status']\n",
    "\n",
    "binary_vars =  ['Electricity']\n",
    "\n",
    "ordinal_vars = ['Household Head Age','Number of bedrooms','House Age','Number of Television', 'Number of CD/VCD/DVD',\n",
    "                'Total Number of Family members','Number of Component/Stereo set', 'Number of Refrigerator/Freezer',\n",
    "                'Number of Washing Machine', 'Number of Airconditioner',\n",
    "                'Number of Car, Jeep, Van', 'Number of Landline/wireless telephones',\n",
    "                'Number of Cellular phone', 'Number of Personal Computer',\n",
    "                'Number of Stove with Oven/Gas Range', 'Number of Motorized Banca',\n",
    "                'Number of Motorcycle/Tricycle','Members with age less than 5 year old','Members with age 5 - 17 years old','Total number of family members employed'] "
   ]
  },
  {
   "cell_type": "code",
   "execution_count": 6,
   "metadata": {
    "collapsed": false
   },
   "outputs": [
    {
     "name": "stdout",
     "output_type": "stream",
     "text": [
      "Continuous Set has 22 columns\n",
      "Categorical Set has 17 columns\n",
      "Ordinal Set has 20 columns\n"
     ]
    }
   ],
   "source": [
    "#Split the columns into continuous, categorical\n",
    "train_continuous = train_data[continuous_vars]\n",
    "train_categorical = train_data[nominal_vars + binary_vars]\n",
    "train_ordinal = train_data[ordinal_vars]\n",
    "train_y = train_data[response_variable]\n",
    "\n",
    "test_continuous = test_data[continuous_vars]\n",
    "test_categorical = test_data[nominal_vars + binary_vars]\n",
    "test_ordinal = test_data[ordinal_vars]\n",
    "\n",
    "\n",
    "print('Continuous Set has ' + str(len(train_continuous.columns)) + ' columns')\n",
    "print('Categorical Set has ' + str(len(train_categorical.columns)) + ' columns')\n",
    "print('Ordinal Set has ' + str(len(train_ordinal.columns)) + ' columns')"
   ]
  },
  {
   "cell_type": "markdown",
   "metadata": {},
   "source": [
    "### Continuous Variables Neural Network"
   ]
  },
  {
   "cell_type": "code",
   "execution_count": 7,
   "metadata": {
    "collapsed": false
   },
   "outputs": [
    {
     "name": "stderr",
     "output_type": "stream",
     "text": [
      "/opt/conda/lib/python3.5/site-packages/sklearn/utils/validation.py:429: DataConversionWarning: Data with input dtype int64 was converted to float64 by StandardScaler.\n",
      "  warnings.warn(msg, _DataConversionWarning)\n",
      "/opt/conda/lib/python3.5/site-packages/sklearn/preprocessing/data.py:586: DeprecationWarning: Passing 1d arrays as data is deprecated in 0.17 and will raise ValueError in 0.19. Reshape your data either using X.reshape(-1, 1) if your data has a single feature or X.reshape(1, -1) if it contains a single sample.\n",
      "  warnings.warn(DEPRECATION_MSG_1D, DeprecationWarning)\n",
      "/opt/conda/lib/python3.5/site-packages/sklearn/preprocessing/data.py:649: DeprecationWarning: Passing 1d arrays as data is deprecated in 0.17 and will raise ValueError in 0.19. Reshape your data either using X.reshape(-1, 1) if your data has a single feature or X.reshape(1, -1) if it contains a single sample.\n",
      "  warnings.warn(DEPRECATION_MSG_1D, DeprecationWarning)\n"
     ]
    }
   ],
   "source": [
    "# Scale the continuous variables\n",
    "xScaler = StandardScaler()\n",
    "train_continuous_scaled = pd.DataFrame(xScaler.fit_transform(train_continuous), columns=continuous_vars)\n",
    "test_continuous_scaled = pd.DataFrame(xScaler.transform(test_continuous), columns=continuous_vars)\n",
    "\n",
    "yScaler = StandardScaler()\n",
    "train_y_scaled = pd.DataFrame(yScaler.fit_transform(train_y))"
   ]
  },
  {
   "cell_type": "code",
   "execution_count": null,
   "metadata": {
    "collapsed": false
   },
   "outputs": [],
   "source": [
    "# Configure the Neural Network\n",
    "model1 = NeuralNetwork(len(train_continuous_scaled.columns))\n",
    "model1.add_layer(30, \"tanh\").add_layer(1, \"identity\", bias = False)"
   ]
  },
  {
   "cell_type": "code",
   "execution_count": null,
   "metadata": {
    "collapsed": false,
    "scrolled": true
   },
   "outputs": [],
   "source": [
    "# Train the Neural Network\n",
    "model1.fit(train_continuous_scaled.astype(float).as_matrix(), pd.DataFrame(train_y_scaled).astype(float).as_matrix(), eta = 0.0001, epochs = 10)"
   ]
  },
  {
   "cell_type": "code",
   "execution_count": null,
   "metadata": {
    "collapsed": false
   },
   "outputs": [],
   "source": [
    "to_submission(yScaler.inverse_transform(model1.predict(xScaler.transform(test_continuous))))"
   ]
  },
  {
   "cell_type": "code",
   "execution_count": null,
   "metadata": {
    "collapsed": false
   },
   "outputs": [],
   "source": [
    "crossval_rmse(model1, train_continuous_scaled, train_y_scaled, yScaler, ep=25)"
   ]
  },
  {
   "cell_type": "markdown",
   "metadata": {
    "collapsed": false
   },
   "source": [
    "### Categorical Variable Neural Network"
   ]
  },
  {
   "cell_type": "code",
   "execution_count": 15,
   "metadata": {
    "collapsed": false
   },
   "outputs": [],
   "source": [
    "train_categorical_dummied = dummyify(train_categorical, nominal_vars)\n",
    "test_categorical_dummied = dummyify(test_categorical, nominal_vars)\n",
    "\n",
    "train_ordinal_encoded = rank_hot_encode(train_ordinal, ordinal_vars)\n",
    "test_ordinal_encoded = rank_hot_encode(test_ordinal, ordinal_vars)"
   ]
  },
  {
   "cell_type": "code",
   "execution_count": 16,
   "metadata": {
    "collapsed": false
   },
   "outputs": [
    {
     "name": "stdout",
     "output_type": "stream",
     "text": [
      "# Columns for train data = 798\n",
      "# Columns for test data = 674\n"
     ]
    }
   ],
   "source": [
    "all_categorical = train_categorical_dummied.join(train_ordinal_encoded)\n",
    "all_categorical_test = test_categorical_dummied.join(test_ordinal_encoded)\n",
    "print(\"# Columns for train data =\", len(all_categorical.columns))\n",
    "print(\"# Columns for test data =\", len(all_categorical_test.columns))"
   ]
  },
  {
   "cell_type": "code",
   "execution_count": null,
   "metadata": {
    "collapsed": false
   },
   "outputs": [],
   "source": [
    "# Configure the Neural Network\n",
    "model2 = NeuralNetwork(len(all_categorical.columns))\n",
    "model2.add_layer(64, \"tanh\").add_layer(1, \"identity\", bias = False)"
   ]
  },
  {
   "cell_type": "code",
   "execution_count": null,
   "metadata": {
    "collapsed": true
   },
   "outputs": [],
   "source": [
    "# Train the Neural Network\n",
    "nn.fit(train_categorical_scaled, train_y_scaled, eta = 0.0001, epochs = 10)"
   ]
  },
  {
   "cell_type": "code",
   "execution_count": null,
   "metadata": {
    "collapsed": false
   },
   "outputs": [],
   "source": [
    "crossval_rmse(model2, all_categorical, train_y_scaled, yScaler, ep=10)"
   ]
  },
  {
   "cell_type": "markdown",
   "metadata": {},
   "source": [
    "### All Variables Neural Network"
   ]
  },
  {
   "cell_type": "code",
   "execution_count": 17,
   "metadata": {
    "collapsed": false
   },
   "outputs": [
    {
     "name": "stdout",
     "output_type": "stream",
     "text": [
      "# Columns for train data = 820\n",
      "# Columns for test data = 696\n"
     ]
    },
    {
     "data": {
      "text/plain": [
       "False"
      ]
     },
     "execution_count": 17,
     "metadata": {},
     "output_type": "execute_result"
    }
   ],
   "source": [
    "train_all_scaled = train_continuous_scaled.join(all_categorical)\n",
    "test_all_scaled = test_continuous_scaled.join(all_categorical_test)\n",
    "print(\"# Columns for train data =\", len(train_all_scaled.columns))\n",
    "print(\"# Columns for test data =\", len(test_all_scaled.columns))\n",
    "len(test_all_scaled.columns) == len(train_all_scaled.columns)"
   ]
  },
  {
   "cell_type": "code",
   "execution_count": null,
   "metadata": {
    "collapsed": false
   },
   "outputs": [],
   "source": [
    "# Configure the Neural Network\n",
    "model3 = NeuralNetwork(len(train_all_scaled.columns))\n",
    "model3.add_layer(64, \"relu\").add_layer(32, \"relu\").add_layer(16, \"relu\").add_layer(1, \"identity\", bias = False)"
   ]
  },
  {
   "cell_type": "code",
   "execution_count": null,
   "metadata": {
    "collapsed": true
   },
   "outputs": [],
   "source": [
    "# Train the Neural Network\n",
    "model3.fit(train_all_scaled, train_y_scaled, eta = 0.0001, epochs = 40, l2_value=5)"
   ]
  },
  {
   "cell_type": "code",
   "execution_count": null,
   "metadata": {
    "collapsed": false,
    "scrolled": true
   },
   "outputs": [],
   "source": [
    "crossval_rmse(model3, train_all_scaled, train_y_scaled, yScaler, ep=10, cv=3)"
   ]
  },
  {
   "cell_type": "markdown",
   "metadata": {},
   "source": [
    "### Any Features Neural Network"
   ]
  },
  {
   "cell_type": "code",
   "execution_count": 18,
   "metadata": {
    "collapsed": true
   },
   "outputs": [],
   "source": [
    "interact_categorical_df_train = dummyify(train_categorical[interact_nominal_vars], interact_nominal_vars)\n",
    "interact_categorical_df_test = dummyify(test_categorical[interact_nominal_vars], interact_nominal_vars)"
   ]
  },
  {
   "cell_type": "code",
   "execution_count": 19,
   "metadata": {
    "collapsed": false
   },
   "outputs": [
    {
     "name": "stdout",
     "output_type": "stream",
     "text": [
      "# Columns for train all data = 1128\n",
      "# Columns for test all data = 982\n"
     ]
    }
   ],
   "source": [
    "# Adds interaction variables\n",
    "train_all = transform_x(train_all_scaled, interact_categorical_df_train)\n",
    "test_all = transform_x(test_all_scaled, interact_categorical_df_test)\n",
    "print(\"# Columns for train all data =\", len(train_all.columns))\n",
    "print(\"# Columns for test all data =\", len(test_all.columns))"
   ]
  },
  {
   "cell_type": "code",
   "execution_count": 20,
   "metadata": {
    "collapsed": false
   },
   "outputs": [
    {
     "data": {
      "text/plain": [
       "970"
      ]
     },
     "execution_count": 20,
     "metadata": {},
     "output_type": "execute_result"
    }
   ],
   "source": [
    "# Find the common columns\n",
    "common_cols = list(set(train_all.columns) & set(test_all.columns))\n",
    "common_cols.sort()\n",
    "len(common_cols)"
   ]
  },
  {
   "cell_type": "code",
   "execution_count": 21,
   "metadata": {
    "collapsed": false
   },
   "outputs": [
    {
     "data": {
      "text/plain": [
       "True"
      ]
     },
     "execution_count": 21,
     "metadata": {},
     "output_type": "execute_result"
    }
   ],
   "source": [
    "# Shrink the train and test datasets to only the common columns\n",
    "train_all_final = train_all[common_cols]\n",
    "test_all_final = test_all[common_cols]\n",
    "len(train_all_final.columns) == len(test_all_final.columns)"
   ]
  },
  {
   "cell_type": "code",
   "execution_count": 22,
   "metadata": {
    "collapsed": false
   },
   "outputs": [
    {
     "data": {
      "text/plain": [
       "<nn.NeuralNetwork at 0x7f95e9c49278>"
      ]
     },
     "execution_count": 22,
     "metadata": {},
     "output_type": "execute_result"
    }
   ],
   "source": [
    "# Configure the Neural Network\n",
    "model4 = NeuralNetwork(len(train_all_final.columns))\n",
    "model4.add_layer(64, \"relu\").add_layer(32, \"relu\").add_layer(16, \"relu\").add_layer(1, \"identity\", bias = False)"
   ]
  },
  {
   "cell_type": "code",
   "execution_count": 25,
   "metadata": {
    "collapsed": false,
    "scrolled": true
   },
   "outputs": [
    {
     "name": "stdout",
     "output_type": "stream",
     "text": [
      "Inputs have been converted. Training starting now.\n",
      "Epoch 0 \tTraining cost: 0.205895395466\n",
      "Epoch 0 |████████████████████████████████████████████████████████████████████████████████████████████████████| 100.0% \n",
      "Epoch 1 \tTraining cost: 0.205894497471\n",
      "Epoch 1 |████████████████████████████████████████████████████████████████████████████████████████████████████| 100.0% \n",
      "Epoch 2 \tTraining cost: 0.205751382998\n",
      "Epoch 2 |████████████████████████████████████████████████████████████████████████████████████████████████████| 100.0% \n",
      "Epoch 3 \tTraining cost: 0.205531732904\n",
      "Epoch 3 |████████████████████████████████████████████████████████████████████████████████████████████████████| 100.0% \n",
      "Epoch 4 \tTraining cost: 0.205536400891\n",
      "Epoch 4 |████████████████████████████████████████████████████████████████████████████████████████████████████| 100.0% \n",
      "Epoch 5 \tTraining cost: 0.204621817578\n",
      "Epoch 5 |████████████████████████████████████████████████████████████████████████████████████████████████████| 100.0% \n",
      "Epoch 6 \tTraining cost: 0.204710458363\n",
      "Epoch 6 |████████████████████████████████████████████████████████████████████████████████████████████████████| 100.0% \n",
      "Epoch 7 \tTraining cost: 0.20478050968\n",
      "Epoch 7 |████████████████████████████████████████████████████████████████████████████████████████████████████| 100.0% \n",
      "Epoch 8 \tTraining cost: 0.204894603886\n"
     ]
    },
    {
     "ename": "KeyboardInterrupt",
     "evalue": "",
     "output_type": "error",
     "traceback": [
      "\u001b[0;31m---------------------------------------------------------------------------\u001b[0m",
      "\u001b[0;31mKeyboardInterrupt\u001b[0m                         Traceback (most recent call last)",
      "\u001b[0;32m<ipython-input-25-1f91ee9a959a>\u001b[0m in \u001b[0;36m<module>\u001b[0;34m()\u001b[0m\n\u001b[1;32m      1\u001b[0m \u001b[0;31m# Train the Neural Network\u001b[0m\u001b[0;34m\u001b[0m\u001b[0;34m\u001b[0m\u001b[0m\n\u001b[0;32m----> 2\u001b[0;31m \u001b[0mmodel4\u001b[0m\u001b[0;34m.\u001b[0m\u001b[0mfit\u001b[0m\u001b[0;34m(\u001b[0m\u001b[0mtrain_all_final\u001b[0m\u001b[0;34m,\u001b[0m \u001b[0mtrain_y_scaled\u001b[0m\u001b[0;34m,\u001b[0m \u001b[0meta\u001b[0m \u001b[0;34m=\u001b[0m \u001b[0;36m0.00001\u001b[0m\u001b[0;34m,\u001b[0m \u001b[0mepochs\u001b[0m \u001b[0;34m=\u001b[0m \u001b[0;36m20\u001b[0m\u001b[0;34m,\u001b[0m \u001b[0ml2_value\u001b[0m\u001b[0;34m=\u001b[0m\u001b[0;36m5\u001b[0m\u001b[0;34m)\u001b[0m\u001b[0;34m\u001b[0m\u001b[0m\n\u001b[0m",
      "\u001b[0;32m/home/ndara/Project2/FilipinoHousing/nn.py\u001b[0m in \u001b[0;36mfit\u001b[0;34m(self, X, Y, test_X, test_Y, eta, epochs, batch_size, verbose, l2_value)\u001b[0m\n\u001b[1;32m    281\u001b[0m                 \u001b[0mprintProgressBar\u001b[0m\u001b[0;34m(\u001b[0m\u001b[0mi\u001b[0m\u001b[0;34m,\u001b[0m \u001b[0mX\u001b[0m\u001b[0;34m.\u001b[0m\u001b[0mshape\u001b[0m\u001b[0;34m[\u001b[0m\u001b[0;36m0\u001b[0m\u001b[0;34m]\u001b[0m\u001b[0;34m,\u001b[0m \u001b[0mprefix\u001b[0m \u001b[0;34m=\u001b[0m \u001b[0;34m\"Epoch \"\u001b[0m \u001b[0;34m+\u001b[0m \u001b[0mstr\u001b[0m\u001b[0;34m(\u001b[0m\u001b[0mepoch\u001b[0m\u001b[0;34m)\u001b[0m\u001b[0;34m)\u001b[0m\u001b[0;34m\u001b[0m\u001b[0m\n\u001b[1;32m    282\u001b[0m                 \u001b[0mend_point\u001b[0m \u001b[0;34m=\u001b[0m \u001b[0mmin\u001b[0m\u001b[0;34m(\u001b[0m\u001b[0mi\u001b[0m \u001b[0;34m+\u001b[0m \u001b[0mbatch_size\u001b[0m\u001b[0;34m,\u001b[0m \u001b[0mX\u001b[0m\u001b[0;34m.\u001b[0m\u001b[0mshape\u001b[0m\u001b[0;34m[\u001b[0m\u001b[0;36m0\u001b[0m\u001b[0;34m]\u001b[0m\u001b[0;34m)\u001b[0m\u001b[0;34m\u001b[0m\u001b[0m\n\u001b[0;32m--> 283\u001b[0;31m                 \u001b[0mself\u001b[0m\u001b[0;34m.\u001b[0m\u001b[0mupdate\u001b[0m\u001b[0;34m(\u001b[0m\u001b[0mX\u001b[0m\u001b[0;34m[\u001b[0m\u001b[0mi\u001b[0m\u001b[0;34m:\u001b[0m\u001b[0mend_point\u001b[0m\u001b[0;34m,\u001b[0m\u001b[0;34m:\u001b[0m\u001b[0;34m]\u001b[0m\u001b[0;34m,\u001b[0m \u001b[0mY\u001b[0m\u001b[0;34m[\u001b[0m\u001b[0mi\u001b[0m\u001b[0;34m:\u001b[0m\u001b[0mend_point\u001b[0m\u001b[0;34m]\u001b[0m\u001b[0;34m,\u001b[0m \u001b[0meta\u001b[0m\u001b[0;34m,\u001b[0m \u001b[0mX\u001b[0m\u001b[0;34m.\u001b[0m\u001b[0mshape\u001b[0m\u001b[0;34m[\u001b[0m\u001b[0;36m0\u001b[0m\u001b[0;34m]\u001b[0m\u001b[0;34m,\u001b[0m \u001b[0ml2_value\u001b[0m\u001b[0;34m)\u001b[0m\u001b[0;34m\u001b[0m\u001b[0m\n\u001b[0m\u001b[1;32m    284\u001b[0m             \u001b[0mprintProgressBar\u001b[0m\u001b[0;34m(\u001b[0m\u001b[0mX\u001b[0m\u001b[0;34m.\u001b[0m\u001b[0mshape\u001b[0m\u001b[0;34m[\u001b[0m\u001b[0;36m0\u001b[0m\u001b[0;34m]\u001b[0m\u001b[0;34m,\u001b[0m \u001b[0mX\u001b[0m\u001b[0;34m.\u001b[0m\u001b[0mshape\u001b[0m\u001b[0;34m[\u001b[0m\u001b[0;36m0\u001b[0m\u001b[0;34m]\u001b[0m\u001b[0;34m,\u001b[0m \u001b[0mprefix\u001b[0m \u001b[0;34m=\u001b[0m \u001b[0;34m\"Epoch \"\u001b[0m \u001b[0;34m+\u001b[0m \u001b[0mstr\u001b[0m\u001b[0;34m(\u001b[0m\u001b[0mepoch\u001b[0m\u001b[0;34m)\u001b[0m\u001b[0;34m)\u001b[0m\u001b[0;34m\u001b[0m\u001b[0m\n\u001b[1;32m    285\u001b[0m \u001b[0;34m\u001b[0m\u001b[0m\n",
      "\u001b[0;32m/home/ndara/Project2/FilipinoHousing/nn.py\u001b[0m in \u001b[0;36mupdate\u001b[0;34m(self, x, y, eta, n, l2_value)\u001b[0m\n\u001b[1;32m    307\u001b[0m         \u001b[0mdldh\u001b[0m \u001b[0;34m=\u001b[0m \u001b[0mself\u001b[0m\u001b[0;34m.\u001b[0m\u001b[0mcost_derivative\u001b[0m\u001b[0;34m(\u001b[0m\u001b[0my\u001b[0m\u001b[0;34m,\u001b[0m \u001b[0mprediction\u001b[0m\u001b[0;34m)\u001b[0m\u001b[0;34m\u001b[0m\u001b[0m\n\u001b[1;32m    308\u001b[0m         \u001b[0;32mfor\u001b[0m \u001b[0mi\u001b[0m\u001b[0;34m,\u001b[0m \u001b[0mlayer\u001b[0m \u001b[0;32min\u001b[0m \u001b[0menumerate\u001b[0m\u001b[0;34m(\u001b[0m\u001b[0mself\u001b[0m\u001b[0;34m.\u001b[0m\u001b[0mlayers\u001b[0m\u001b[0;34m[\u001b[0m\u001b[0;34m:\u001b[0m\u001b[0;34m:\u001b[0m\u001b[0;34m-\u001b[0m\u001b[0;36m1\u001b[0m\u001b[0;34m]\u001b[0m\u001b[0;34m)\u001b[0m\u001b[0;34m:\u001b[0m\u001b[0;34m\u001b[0m\u001b[0m\n\u001b[0;32m--> 309\u001b[0;31m             \u001b[0mdldh\u001b[0m \u001b[0;34m=\u001b[0m \u001b[0mlayer\u001b[0m\u001b[0;34m.\u001b[0m\u001b[0mback_prop\u001b[0m\u001b[0;34m(\u001b[0m\u001b[0mdldh\u001b[0m\u001b[0;34m,\u001b[0m \u001b[0meta\u001b[0m \u001b[0;34m/\u001b[0m \u001b[0mx\u001b[0m\u001b[0;34m.\u001b[0m\u001b[0mshape\u001b[0m\u001b[0;34m[\u001b[0m\u001b[0;36m0\u001b[0m\u001b[0;34m]\u001b[0m\u001b[0;34m,\u001b[0m \u001b[0ml2_value\u001b[0m \u001b[0;34m/\u001b[0m \u001b[0mn\u001b[0m\u001b[0;34m)\u001b[0m\u001b[0;34m\u001b[0m\u001b[0m\n\u001b[0m\u001b[1;32m    310\u001b[0m             \u001b[0;31m# divide eta by the batch_size so as to account for multiple updates at the same time\u001b[0m\u001b[0;34m\u001b[0m\u001b[0;34m\u001b[0m\u001b[0m\n\u001b[1;32m    311\u001b[0m             \u001b[0;31m# divide lambda by the total samples for L2 regularization\u001b[0m\u001b[0;34m\u001b[0m\u001b[0;34m\u001b[0m\u001b[0m\n",
      "\u001b[0;32m/home/ndara/Project2/FilipinoHousing/nn.py\u001b[0m in \u001b[0;36mback_prop\u001b[0;34m(self, dldh, eta, l2_value)\u001b[0m\n\u001b[1;32m    169\u001b[0m         \u001b[0mprior_dldh\u001b[0m \u001b[0;34m=\u001b[0m \u001b[0mdldh_prod\u001b[0m\u001b[0;34m.\u001b[0m\u001b[0mdot\u001b[0m\u001b[0;34m(\u001b[0m\u001b[0mself\u001b[0m\u001b[0;34m.\u001b[0m\u001b[0mweights\u001b[0m\u001b[0;34m.\u001b[0m\u001b[0mT\u001b[0m\u001b[0;34m)\u001b[0m\u001b[0;34m\u001b[0m\u001b[0m\n\u001b[1;32m    170\u001b[0m \u001b[0;34m\u001b[0m\u001b[0m\n\u001b[0;32m--> 171\u001b[0;31m         \u001b[0mself\u001b[0m\u001b[0;34m.\u001b[0m\u001b[0mupdate_weights\u001b[0m\u001b[0;34m(\u001b[0m\u001b[0mdldh_prod\u001b[0m\u001b[0;34m,\u001b[0m \u001b[0meta\u001b[0m\u001b[0;34m,\u001b[0m \u001b[0ml2_value\u001b[0m\u001b[0;34m)\u001b[0m\u001b[0;34m\u001b[0m\u001b[0m\n\u001b[0m\u001b[1;32m    172\u001b[0m \u001b[0;34m\u001b[0m\u001b[0m\n\u001b[1;32m    173\u001b[0m         \u001b[0;32mreturn\u001b[0m \u001b[0mprior_dldh\u001b[0m\u001b[0;34m\u001b[0m\u001b[0m\n",
      "\u001b[0;32m/home/ndara/Project2/FilipinoHousing/nn.py\u001b[0m in \u001b[0;36mupdate_weights\u001b[0;34m(self, dldh_prod, eta, l2_value)\u001b[0m\n\u001b[1;32m    143\u001b[0m         \"\"\"\n\u001b[1;32m    144\u001b[0m \u001b[0;34m\u001b[0m\u001b[0m\n\u001b[0;32m--> 145\u001b[0;31m         \u001b[0mdldw\u001b[0m \u001b[0;34m=\u001b[0m \u001b[0mself\u001b[0m\u001b[0;34m.\u001b[0m\u001b[0minputs\u001b[0m\u001b[0;34m.\u001b[0m\u001b[0mT\u001b[0m\u001b[0;34m.\u001b[0m\u001b[0mdot\u001b[0m\u001b[0;34m(\u001b[0m\u001b[0mdldh_prod\u001b[0m\u001b[0;34m)\u001b[0m\u001b[0;34m\u001b[0m\u001b[0m\n\u001b[0m\u001b[1;32m    146\u001b[0m         \u001b[0;32mif\u001b[0m \u001b[0mself\u001b[0m\u001b[0;34m.\u001b[0m\u001b[0mlast_layer_bias\u001b[0m\u001b[0;34m:\u001b[0m\u001b[0;34m\u001b[0m\u001b[0m\n\u001b[1;32m    147\u001b[0m             \u001b[0mself\u001b[0m\u001b[0;34m.\u001b[0m\u001b[0mweights\u001b[0m\u001b[0;34m[\u001b[0m\u001b[0;34m:\u001b[0m\u001b[0;34m-\u001b[0m\u001b[0;36m1\u001b[0m\u001b[0;34m,\u001b[0m \u001b[0;34m:\u001b[0m\u001b[0;34m]\u001b[0m \u001b[0;34m=\u001b[0m \u001b[0;34m(\u001b[0m\u001b[0;36m1\u001b[0m \u001b[0;34m-\u001b[0m \u001b[0meta\u001b[0m \u001b[0;34m*\u001b[0m \u001b[0ml2_value\u001b[0m\u001b[0;34m)\u001b[0m \u001b[0;34m*\u001b[0m \u001b[0mself\u001b[0m\u001b[0;34m.\u001b[0m\u001b[0mweights\u001b[0m\u001b[0;34m[\u001b[0m\u001b[0;34m:\u001b[0m\u001b[0;34m-\u001b[0m\u001b[0;36m1\u001b[0m\u001b[0;34m,\u001b[0m \u001b[0;34m:\u001b[0m\u001b[0;34m]\u001b[0m \u001b[0;34m-\u001b[0m \u001b[0meta\u001b[0m \u001b[0;34m*\u001b[0m \u001b[0mdldw\u001b[0m\u001b[0;34m[\u001b[0m\u001b[0;34m:\u001b[0m\u001b[0;34m-\u001b[0m\u001b[0;36m1\u001b[0m\u001b[0;34m,\u001b[0m \u001b[0;34m:\u001b[0m\u001b[0;34m]\u001b[0m\u001b[0;34m\u001b[0m\u001b[0m\n",
      "\u001b[0;31mKeyboardInterrupt\u001b[0m: "
     ]
    }
   ],
   "source": [
    "# Train the Neural Network\n",
    "model4.fit(train_all_final, train_y_scaled, eta = 0.00001, epochs = 20, l2_value=5)"
   ]
  },
  {
   "cell_type": "code",
   "execution_count": null,
   "metadata": {
    "collapsed": true
   },
   "outputs": [],
   "source": [
    "def optimize_NN( \n",
    "                neurons = [50,100],\n",
    "                epoches = [20],\n",
    "                etas = [.01],\n",
    "                activation_functions = ['relu']):\n",
    "    \n",
    "    score_to_beat = np.inf\n",
    "    optimal_hyperparams = []\n",
    "    \n",
    "    for neuron in neurons:\n",
    "        for activation_function in activation_functions:\n",
    "            for epoch in epoches:\n",
    "                for eta in etas:\n",
    "                    print([neuron, activation_function, epoch, eta])\n",
    "                    net = NeuralNetwork(len(train_all_final.columns)).add_layer(neuron, activation_function).add_layer(1, \"identity\", bias = False)\n",
    "                    rmse = crossval_rmse(net, train_all_final, train_y_scaled, yScaler, ep=epoch, cv = 4, et = eta)\n",
    "                    print(rmse)\n",
    "                    if rmse < score_to_beat:\n",
    "                        score_to_beat = rmse\n",
    "                        optimal_hyperparams = [neuron, activation_function, epoch, eta, rmse]\n",
    "                    \n",
    "    return optimal_hyperparams"
   ]
  },
  {
   "cell_type": "code",
   "execution_count": null,
   "metadata": {
    "collapsed": false
   },
   "outputs": [],
   "source": [
    "optimize_NN()"
   ]
  },
  {
   "cell_type": "code",
   "execution_count": 26,
   "metadata": {
    "collapsed": false
   },
   "outputs": [
    {
     "name": "stdout",
     "output_type": "stream",
     "text": [
      "Training on fold  0\n",
      "Inputs have been converted. Training starting now.\n",
      "Epoch 0 \tTraining cost: 0.22148049221\n",
      "Epoch 0 |████████████████████████████████████████████████████████████████████████████████████████████████████| 100.0% \n",
      "Epoch 1 \tTraining cost: 0.221381831282\n",
      "Epoch 1 |████████████████████████████████████████████████████████████████████████████████████████████████████| 100.0% \n",
      "Epoch 2 \tTraining cost: 0.222874468988\n",
      "Epoch 2 |████████████████████████████████████████████████████████████████████████████████████████████████████| 100.0% \n",
      "Epoch 3 \tTraining cost: 0.217777994219\n",
      "Epoch 3 |████████████████████████████████████████████████████████████████████████████████████████████████████| 100.0% \n",
      "Epoch 4 \tTraining cost: 0.217754473167\n",
      "Epoch 4 |████████████████████████████████████████████████████████████████████████████████████████████████████| 100.0% \n",
      "Epoch 5 \tTraining cost: 0.218400392662\n",
      "Epoch 5 |████████████████████████████████████████████████████████████████████████████████████████████████████| 100.0% \n",
      "Epoch 6 \tTraining cost: 0.215239060826\n",
      "Epoch 6 |████████████████████████████████████████████████████████████████████████████████████████████████████| 100.0% \n",
      "Epoch 7 \tTraining cost: 0.212592353117\n",
      "Epoch 7 |████████████████████████████████████████████████████████████████████████████████████████████████████| 100.0% \n",
      "Epoch 8 \tTraining cost: 0.210798448327\n",
      "Epoch 8 |████████████████████████████████████████████████████████████████████████████████████████████████████| 100.0% \n",
      "Epoch 9 \tTraining cost: 0.211675581778\n",
      "Epoch 9 |████████████████████████████████████████████████████████████████████████████████████████████████████| 100.0% \n",
      "Epoch 9 \tTraining cost: 0.214734847086\n",
      "Training on fold  1\n",
      "Inputs have been converted. Training starting now.\n",
      "Epoch 0 \tTraining cost: 0.161588535898\n",
      "Epoch 0 |████████████████████████████████████████████████████████████████████████████████████████████████████| 100.0% \n",
      "Epoch 1 \tTraining cost: 0.14053182713\n",
      "Epoch 1 |████████████████████████████████████████████████████████████████████████████████████████████████████| 100.0% \n",
      "Epoch 2 \tTraining cost: 0.139392254453\n",
      "Epoch 2 |████████████████████████████████████████████████████████████████████████████████████████████████████| 100.0% \n",
      "Epoch 3 \tTraining cost: 0.152120853455\n",
      "Epoch 3 |████████████████████████████████████████████████████████████████████████████████████████████████████| 100.0% \n",
      "Epoch 4 \tTraining cost: 0.150276506191\n",
      "Epoch 4 |████████████████████████████████████████████████████████████████████████████████████████████████████| 100.0% \n",
      "Epoch 5 \tTraining cost: 0.147646277569\n",
      "Epoch 5 |████████████████████████████████████████████████████████████████████████████████████████████████████| 100.0% \n",
      "Epoch 6 \tTraining cost: 0.137009651779\n",
      "Epoch 6 |████████████████████████████████████████████████████████████████████████████████████████████████████| 100.0% \n",
      "Epoch 7 \tTraining cost: 0.134876355932\n",
      "Epoch 7 |████████████████████████████████████████████████████████████████████████████████████████████████████| 100.0% \n",
      "Epoch 8 \tTraining cost: 0.132902710625\n",
      "Epoch 8 |████████████████████████████████████████████████████████████████████████████████████████████████████| 100.0% \n",
      "Epoch 9 \tTraining cost: 0.13179125501\n",
      "Epoch 9 |████████████████████████████████████████████████████████████████████████████████████████████████████| 100.0% \n",
      "Epoch 9 \tTraining cost: 0.131589413539\n",
      "Training on fold  2\n",
      "Inputs have been converted. Training starting now.\n",
      "Epoch 0 \tTraining cost: 0.138469425774\n",
      "Epoch 0 |████████████████████████████████████████████████████████████████████████████████████████████████████| 100.0% \n",
      "Epoch 1 \tTraining cost: 0.136578253021\n",
      "Epoch 1 |████████████████████████████████████████████████████████████████████████████████████████████████████| 100.0% \n",
      "Epoch 2 \tTraining cost: 0.134572048887\n",
      "Epoch 2 |████████████████████████████████████████████████████████████████████████████████████████████████████| 100.0% \n",
      "Epoch 3 \tTraining cost: 0.133730921027\n",
      "Epoch 3 |████████████████████████████████████████████████████████████████████████████████████████████████████| 100.0% \n",
      "Epoch 4 \tTraining cost: 0.132152444597\n",
      "Epoch 4 |████████████████████████████████████████████████████████████████████████████████████████████████████| 100.0% \n",
      "Epoch 5 \tTraining cost: 0.131320038416\n",
      "Epoch 5 |████████████████████████████████████████████████████████████████████████████████████████████████████| 100.0% \n",
      "Epoch 6 \tTraining cost: 0.130294782399\n",
      "Epoch 6 |████████████████████████████████████████████████████████████████████████████████████████████████████| 100.0% \n",
      "Epoch 7 \tTraining cost: 0.129852678183\n",
      "Epoch 7 |████████████████████████████████████████████████████████████████████████████████████████████████████| 100.0% \n",
      "Epoch 8 \tTraining cost: 0.129050912269\n",
      "Epoch 8 |████████████████████████████████████████████████████████████████████████████████████████████████████| 100.0% \n",
      "Epoch 9 \tTraining cost: 0.126141254875\n",
      "Epoch 9 |████████████████████████████████████████████████████████████████████████████████████████████████████| 100.0% \n",
      "Epoch 9 \tTraining cost: 0.127127088003\n",
      "Training on fold  3\n",
      "Inputs have been converted. Training starting now.\n",
      "Epoch 0 \tTraining cost: 0.176808594263\n",
      "Epoch 0 |████████████████████████████████████████████████████████████████████████████████████████████████████| 100.0% \n",
      "Epoch 1 \tTraining cost: 0.174546775599\n",
      "Epoch 1 |████████████████████████████████████████████████████████████████████████████████████████████████████| 100.0% \n",
      "Epoch 2 \tTraining cost: 0.173805625671\n",
      "Epoch 2 |████████████████████████████████████████████████████████████████████████████████████████████████████| 100.0% \n",
      "Epoch 3 \tTraining cost: 0.173903585961\n",
      "Epoch 3 |████████████████████████████████████████████████████████████████████████████████████████████████████| 100.0% \n",
      "Epoch 4 \tTraining cost: 0.174229847673\n",
      "Epoch 4 |████████████████████████████████████████████████████████████████████████████████████████████████████| 100.0% \n",
      "Epoch 5 \tTraining cost: 0.173895830242\n",
      "Epoch 5 |████████████████████████████████████████████████████████████████████████████████████████████████████| 100.0% \n",
      "Epoch 6 \tTraining cost: 0.172206817777\n",
      "Epoch 6 |████████████████████████████████████████████████████████████████████████████████████████████████████| 100.0% \n",
      "Epoch 7 \tTraining cost: 0.171822458343\n",
      "Epoch 7 |████████████████████████████████████████████████████████████████████████████████████████████████████| 100.0% \n",
      "Epoch 8 \tTraining cost: 0.168290291655\n",
      "Epoch 8 |████████████████████████████████████████████████████████████████████████████████████████████████████| 100.0% \n",
      "Epoch 9 \tTraining cost: 0.167639749065\n",
      "Epoch 9 |████████████████████████████████████████████████████████████████████████████████████████████████████| 100.0% \n",
      "Epoch 9 \tTraining cost: 0.166945674008\n"
     ]
    },
    {
     "data": {
      "text/plain": [
       "135120.68345387612"
      ]
     },
     "execution_count": 26,
     "metadata": {},
     "output_type": "execute_result"
    }
   ],
   "source": [
    "crossval_rmse(model4, train_all_final, train_y_scaled, yScaler, ep=10, cv = 4, et = 0.001)"
   ]
  },
  {
   "cell_type": "code",
   "execution_count": null,
   "metadata": {
    "collapsed": true
   },
   "outputs": [],
   "source": [
    "# Predict with the Neural Network against training data for meterics purposes\n",
    "predicted_y_scaled_test = nn.predict(test_all_final)\n",
    "predicted_y_test = yScaler.inverse_transform(predicted_y_scaled_test.reshape(predicted_y_scaled_test.shape[0],))"
   ]
  },
  {
   "cell_type": "markdown",
   "metadata": {},
   "source": [
    "### Functions"
   ]
  },
  {
   "cell_type": "code",
   "execution_count": 9,
   "metadata": {
    "collapsed": true
   },
   "outputs": [],
   "source": [
    "def interact_all(df, interact_categorical_df):\n",
    "    for continuous in interact_continuous_vars:\n",
    "        for categorical in interact_categorical_df.columns:\n",
    "            interation_name = \"interatct_\" + continuous + \"_\" + categorical\n",
    "            df[interation_name] = df[continuous] * df[categorical]\n",
    "    \n",
    "    return df"
   ]
  },
  {
   "cell_type": "code",
   "execution_count": 10,
   "metadata": {
    "collapsed": true
   },
   "outputs": [],
   "source": [
    "def transform_x(df, interact_categorical_df):\n",
    "    df = interact_all(df, interact_categorical_df)\n",
    "    return df"
   ]
  },
  {
   "cell_type": "code",
   "execution_count": 11,
   "metadata": {
    "collapsed": true
   },
   "outputs": [],
   "source": [
    "def dummyify(df, \n",
    "             cols_to_dummy = []\n",
    "            ):\n",
    "    \"\"\"\n",
    "    DESCRIPTION:\n",
    "        * Converts a categorical variable in a Pandas DataFrame to dummy/indicator variables.\n",
    "          Drops one of the dummy columns to create our baseline for modeling. \n",
    "          Drops original column containing categorical variable.\n",
    "        \n",
    "    PARAMS:\n",
    "        * df            --> Pandas DataFrame containing data.\n",
    "        * col_to_dummy  --> The name of the categorical variable to convert to a dummy variable.\n",
    "        * col_to_drop   --> The name of one of the dummy variable columns to drops. \n",
    "                            Defaults to the first value of col_to_dummy.\n",
    "        \n",
    "    RETURNS:\n",
    "        Pandas DataFrame with the categorical variable converted to dummy variables.\n",
    "    \"\"\"\n",
    "    \n",
    "    if not cols_to_dummy:\n",
    "        raise ValueError(\"Please provide column to dummy\")\n",
    "        \n",
    "    for col in cols_to_dummy:\n",
    "        dummies = pd.get_dummies( df[col] )\n",
    "        \n",
    "        new_cols = [col + '_' + str(old_col) for old_col in dummies.columns] # Have to do this for ordinal variables\n",
    "        dummies.columns = new_cols \n",
    "        col_to_drop = dummies.columns[0]\n",
    "\n",
    "        df = pd.concat( [df, dummies], axis=1 ).drop( [col_to_drop, col], axis=1 )\n",
    "\n",
    "    return df"
   ]
  },
  {
   "cell_type": "code",
   "execution_count": 12,
   "metadata": {
    "collapsed": true
   },
   "outputs": [],
   "source": [
    "def rank_hot_encode(df, \n",
    "                    cols_to_encode = []\n",
    "                   ):\n",
    "    \"\"\"\n",
    "    DESCRIPTION:\n",
    "        * Converts ordinal variables in a Pandas DataFrame to continuous variables.\n",
    "          Drops one of the dummy columns to create our baseline for modeling. \n",
    "          Drops original column containing categorical variable.\n",
    "        \n",
    "    PARAMS:\n",
    "        * df            --> Pandas DataFrame containing data.\n",
    "        * col_to_dummy  --> The name of the ordinal variable to convert to a dummy variable.\n",
    "        \n",
    "    RETURNS:\n",
    "        Pandas DataFrame with the categorical variable converted to dummy variables.\n",
    "    \"\"\"\n",
    "    for col_to_encode in cols_to_encode:\n",
    "        dummied = pd.get_dummies(df[col_to_encode], drop_first = True)\n",
    "        encoded_values = dummied.columns\n",
    "        \n",
    "        for index in range(0, len(dummied)):\n",
    "            row = dummied.loc[index]\n",
    "            if(sum(row) == 0):\n",
    "                continue\n",
    "            for col in encoded_values:\n",
    "                if(row[col] == 0):\n",
    "                    row[col] = 1\n",
    "                else:\n",
    "                    break\n",
    "\n",
    "        new_cols = [col_to_encode + '_' + str(old_col) for old_col in dummied.columns]\n",
    "        dummied.columns = new_cols \n",
    "        \n",
    "        df = pd.concat( [df, dummied], axis=1 ).drop( [col_to_encode], axis=1 )\n",
    "    return df"
   ]
  },
  {
   "cell_type": "code",
   "execution_count": 13,
   "metadata": {
    "collapsed": true
   },
   "outputs": [],
   "source": [
    "def crossval_rmse(nn,\n",
    "                  x,\n",
    "                  y,\n",
    "                  y_scaler,\n",
    "                  cv = 5,\n",
    "                  ep = 30,\n",
    "                  et = 0.0001):\n",
    "    \n",
    "    folds = ShuffleSplit(n_splits=cv, test_size=1/cv, random_state=0)\n",
    "    split_indices = folds.split(x)\n",
    "    train_indices, test_indices = zip(*[(x,y) for x,y in split_indices])\n",
    "    \n",
    "    mse = []\n",
    "    for i in range(len(train_indices)):\n",
    "        print(\"Training on fold \" , i)\n",
    "        train_x = x.loc[train_indices[i]]\n",
    "        train_y = y.loc[train_indices[i]]\n",
    "        test_x = x.loc[test_indices[i]]\n",
    "        test_y = y_scaler.inverse_transform(y.loc[test_indices[i]])\n",
    "        \n",
    "        nn.fit(train_x.astype(float).as_matrix(), pd.DataFrame(train_y).astype(float).as_matrix(), eta = et, epochs = ep, l2_value=5)\n",
    "        \n",
    "        pred = y_scaler.inverse_transform(nn.predict(test_x))\n",
    "        mse.append(mean_squared_error(test_y, pred))\n",
    "        \n",
    "    return np.sqrt(np.average(mse))"
   ]
  },
  {
   "cell_type": "code",
   "execution_count": 14,
   "metadata": {
    "collapsed": true
   },
   "outputs": [],
   "source": [
    "def to_submission(pred):\n",
    "    output = test_data\n",
    "    output['Total Household Income'] = pred\n",
    "    submission = test_data[['Index','Total Household Income']]\n",
    "    submission.to_csv('submission_NN.csv', index=False)\n",
    "    return"
   ]
  },
  {
   "cell_type": "code",
   "execution_count": null,
   "metadata": {
    "collapsed": true
   },
   "outputs": [],
   "source": []
  },
  {
   "cell_type": "code",
   "execution_count": null,
   "metadata": {
    "collapsed": true
   },
   "outputs": [],
   "source": []
  }
 ],
 "metadata": {
  "kernelspec": {
   "display_name": "Python 3",
   "language": "python",
   "name": "python3"
  },
  "language_info": {
   "codemirror_mode": {
    "name": "ipython",
    "version": 3
   },
   "file_extension": ".py",
   "mimetype": "text/x-python",
   "name": "python",
   "nbconvert_exporter": "python",
   "pygments_lexer": "ipython3",
   "version": "3.5.2"
  }
 },
 "nbformat": 4,
 "nbformat_minor": 2
}
