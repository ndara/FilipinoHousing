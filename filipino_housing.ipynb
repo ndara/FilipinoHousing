{
 "cells": [
  {
   "cell_type": "markdown",
   "metadata": {},
   "source": [
    "# Filipino Housing Regression\n",
    "## DATA 401"
   ]
  },
  {
   "cell_type": "code",
   "execution_count": 6,
   "metadata": {
    "collapsed": false
   },
   "outputs": [
    {
     "name": "stderr",
     "output_type": "stream",
     "text": [
      "Using TensorFlow backend.\n"
     ]
    }
   ],
   "source": [
    "import pandas as pd\n",
    "pd.set_option('display.max_columns', None)\n",
    "import numpy as np\n",
    "\n",
    "# Models\n",
    "from sklearn.linear_model import LinearRegression, LassoCV\n",
    "\n",
    "# Model Selection\n",
    "from sklearn.model_selection import cross_val_score\n",
    "from sklearn.metrics import mean_squared_error\n",
    "\n",
    "# Model Storage\n",
    "from sklearn.externals import joblib\n",
    "\n",
    "# NN\n",
    "import keras as k"
   ]
  },
  {
   "cell_type": "code",
   "execution_count": 5,
   "metadata": {
    "collapsed": false
   },
   "outputs": [
    {
     "name": "stdout",
     "output_type": "stream",
     "text": [
      "Train Data Rows:  33235\n",
      "Test Data Rows:  8309\n"
     ]
    }
   ],
   "source": [
    "train_data = pd.read_csv(\"/data/project2/train.csv\")\n",
    "test_data = pd.read_csv(\"/data/project2/test.csv\")\n",
    "print(\"Train Data Rows: \", len(train_data))\n",
    "print(\"Test Data Rows: \", len(test_data))"
   ]
  },
  {
   "cell_type": "code",
   "execution_count": 7,
   "metadata": {
    "collapsed": false
   },
   "outputs": [
    {
     "data": {
      "text/html": [
       "<div>\n",
       "<table border=\"1\" class=\"dataframe\">\n",
       "  <thead>\n",
       "    <tr style=\"text-align: right;\">\n",
       "      <th></th>\n",
       "      <th>Index</th>\n",
       "      <th>Region</th>\n",
       "      <th>Total Food Expenditure</th>\n",
       "      <th>Main Source of Income</th>\n",
       "      <th>Agricultural Household indicator</th>\n",
       "      <th>Bread and Cereals Expenditure</th>\n",
       "      <th>Total Rice Expenditure</th>\n",
       "      <th>Meat Expenditure</th>\n",
       "      <th>Total Fish and  marine products Expenditure</th>\n",
       "      <th>Fruit Expenditure</th>\n",
       "      <th>Vegetables Expenditure</th>\n",
       "      <th>Restaurant and hotels Expenditure</th>\n",
       "      <th>Alcoholic Beverages Expenditure</th>\n",
       "      <th>Tobacco Expenditure</th>\n",
       "      <th>Clothing, Footwear and Other Wear Expenditure</th>\n",
       "      <th>Housing and water Expenditure</th>\n",
       "      <th>Imputed House Rental Value</th>\n",
       "      <th>Medical Care Expenditure</th>\n",
       "      <th>Transportation Expenditure</th>\n",
       "      <th>Communication Expenditure</th>\n",
       "      <th>Education Expenditure</th>\n",
       "      <th>Miscellaneous Goods and Services Expenditure</th>\n",
       "      <th>Special Occasions Expenditure</th>\n",
       "      <th>Crop Farming and Gardening expenses</th>\n",
       "      <th>Total Income from Entrepreneurial Acitivites</th>\n",
       "      <th>Household Head Sex</th>\n",
       "      <th>Household Head Age</th>\n",
       "      <th>Household Head Marital Status</th>\n",
       "      <th>Household Head Highest Grade Completed</th>\n",
       "      <th>Household Head Job or Business Indicator</th>\n",
       "      <th>Household Head Occupation</th>\n",
       "      <th>Household Head Class of Worker</th>\n",
       "      <th>Type of Household</th>\n",
       "      <th>Total Number of Family members</th>\n",
       "      <th>Members with age less than 5 year old</th>\n",
       "      <th>Members with age 5 - 17 years old</th>\n",
       "      <th>Total number of family members employed</th>\n",
       "      <th>Type of Building/House</th>\n",
       "      <th>Type of Roof</th>\n",
       "      <th>Type of Walls</th>\n",
       "      <th>House Floor Area</th>\n",
       "      <th>House Age</th>\n",
       "      <th>Number of bedrooms</th>\n",
       "      <th>Tenure Status</th>\n",
       "      <th>Toilet Facilities</th>\n",
       "      <th>Electricity</th>\n",
       "      <th>Main Source of Water Supply</th>\n",
       "      <th>Number of Television</th>\n",
       "      <th>Number of CD/VCD/DVD</th>\n",
       "      <th>Number of Component/Stereo set</th>\n",
       "      <th>Number of Refrigerator/Freezer</th>\n",
       "      <th>Number of Washing Machine</th>\n",
       "      <th>Number of Airconditioner</th>\n",
       "      <th>Number of Car, Jeep, Van</th>\n",
       "      <th>Number of Landline/wireless telephones</th>\n",
       "      <th>Number of Cellular phone</th>\n",
       "      <th>Number of Personal Computer</th>\n",
       "      <th>Number of Stove with Oven/Gas Range</th>\n",
       "      <th>Number of Motorized Banca</th>\n",
       "      <th>Number of Motorcycle/Tricycle</th>\n",
       "      <th>Total Household Income</th>\n",
       "    </tr>\n",
       "  </thead>\n",
       "  <tbody>\n",
       "    <tr>\n",
       "      <th>0</th>\n",
       "      <td>22617</td>\n",
       "      <td>CAR</td>\n",
       "      <td>81940</td>\n",
       "      <td>Enterpreneurial Activities</td>\n",
       "      <td>1</td>\n",
       "      <td>44171</td>\n",
       "      <td>40336</td>\n",
       "      <td>9053</td>\n",
       "      <td>4499</td>\n",
       "      <td>5245</td>\n",
       "      <td>6625</td>\n",
       "      <td>2410</td>\n",
       "      <td>145</td>\n",
       "      <td>0</td>\n",
       "      <td>1769</td>\n",
       "      <td>12300</td>\n",
       "      <td>3600</td>\n",
       "      <td>544</td>\n",
       "      <td>2700</td>\n",
       "      <td>636</td>\n",
       "      <td>0</td>\n",
       "      <td>5466</td>\n",
       "      <td>5150</td>\n",
       "      <td>22300</td>\n",
       "      <td>46100</td>\n",
       "      <td>Male</td>\n",
       "      <td>63</td>\n",
       "      <td>Married</td>\n",
       "      <td>Elementary Graduate</td>\n",
       "      <td>With Job/Business</td>\n",
       "      <td>Carpenters and joiners</td>\n",
       "      <td>Worked for private establishment</td>\n",
       "      <td>Extended Family</td>\n",
       "      <td>6</td>\n",
       "      <td>2</td>\n",
       "      <td>1</td>\n",
       "      <td>2</td>\n",
       "      <td>Single house</td>\n",
       "      <td>Strong material(galvanized,iron,al,tile,concre...</td>\n",
       "      <td>Strong</td>\n",
       "      <td>342</td>\n",
       "      <td>30</td>\n",
       "      <td>2</td>\n",
       "      <td>Own or owner-like possession of house and lot</td>\n",
       "      <td>Water-sealed, sewer septic tank, used exclusiv...</td>\n",
       "      <td>1</td>\n",
       "      <td>Protected spring, river, stream, etc</td>\n",
       "      <td>0</td>\n",
       "      <td>0</td>\n",
       "      <td>0</td>\n",
       "      <td>0</td>\n",
       "      <td>1</td>\n",
       "      <td>0</td>\n",
       "      <td>0</td>\n",
       "      <td>0</td>\n",
       "      <td>2</td>\n",
       "      <td>0</td>\n",
       "      <td>0</td>\n",
       "      <td>0</td>\n",
       "      <td>0</td>\n",
       "      <td>115835</td>\n",
       "    </tr>\n",
       "    <tr>\n",
       "      <th>1</th>\n",
       "      <td>21389</td>\n",
       "      <td>V - Bicol Region</td>\n",
       "      <td>26176</td>\n",
       "      <td>Other sources of Income</td>\n",
       "      <td>0</td>\n",
       "      <td>14477</td>\n",
       "      <td>13067</td>\n",
       "      <td>722</td>\n",
       "      <td>3707</td>\n",
       "      <td>755</td>\n",
       "      <td>1560</td>\n",
       "      <td>260</td>\n",
       "      <td>280</td>\n",
       "      <td>235</td>\n",
       "      <td>1725</td>\n",
       "      <td>5502</td>\n",
       "      <td>3600</td>\n",
       "      <td>813</td>\n",
       "      <td>228</td>\n",
       "      <td>138</td>\n",
       "      <td>0</td>\n",
       "      <td>4722</td>\n",
       "      <td>0</td>\n",
       "      <td>0</td>\n",
       "      <td>5460</td>\n",
       "      <td>Male</td>\n",
       "      <td>73</td>\n",
       "      <td>Married</td>\n",
       "      <td>No Grade Completed</td>\n",
       "      <td>With Job/Business</td>\n",
       "      <td>Inland and coastal waters fishermen</td>\n",
       "      <td>Self-employed wihout any employee</td>\n",
       "      <td>Single Family</td>\n",
       "      <td>2</td>\n",
       "      <td>0</td>\n",
       "      <td>0</td>\n",
       "      <td>1</td>\n",
       "      <td>Single house</td>\n",
       "      <td>Light material (cogon,nipa,anahaw)</td>\n",
       "      <td>Light</td>\n",
       "      <td>20</td>\n",
       "      <td>3</td>\n",
       "      <td>0</td>\n",
       "      <td>Own house, rent-free lot with consent of owner</td>\n",
       "      <td>Water-sealed, sewer septic tank, shared with o...</td>\n",
       "      <td>0</td>\n",
       "      <td>Own use, tubed/piped deep well</td>\n",
       "      <td>0</td>\n",
       "      <td>0</td>\n",
       "      <td>0</td>\n",
       "      <td>0</td>\n",
       "      <td>0</td>\n",
       "      <td>0</td>\n",
       "      <td>0</td>\n",
       "      <td>0</td>\n",
       "      <td>0</td>\n",
       "      <td>0</td>\n",
       "      <td>0</td>\n",
       "      <td>0</td>\n",
       "      <td>0</td>\n",
       "      <td>44339</td>\n",
       "    </tr>\n",
       "  </tbody>\n",
       "</table>\n",
       "</div>"
      ],
      "text/plain": [
       "   Index            Region  Total Food Expenditure  \\\n",
       "0  22617               CAR                   81940   \n",
       "1  21389  V - Bicol Region                   26176   \n",
       "\n",
       "        Main Source of Income  Agricultural Household indicator  \\\n",
       "0  Enterpreneurial Activities                                 1   \n",
       "1     Other sources of Income                                 0   \n",
       "\n",
       "   Bread and Cereals Expenditure  Total Rice Expenditure  Meat Expenditure  \\\n",
       "0                          44171                   40336              9053   \n",
       "1                          14477                   13067               722   \n",
       "\n",
       "   Total Fish and  marine products Expenditure  Fruit Expenditure  \\\n",
       "0                                         4499               5245   \n",
       "1                                         3707                755   \n",
       "\n",
       "   Vegetables Expenditure  Restaurant and hotels Expenditure  \\\n",
       "0                    6625                               2410   \n",
       "1                    1560                                260   \n",
       "\n",
       "   Alcoholic Beverages Expenditure  Tobacco Expenditure  \\\n",
       "0                              145                    0   \n",
       "1                              280                  235   \n",
       "\n",
       "   Clothing, Footwear and Other Wear Expenditure  \\\n",
       "0                                           1769   \n",
       "1                                           1725   \n",
       "\n",
       "   Housing and water Expenditure  Imputed House Rental Value  \\\n",
       "0                          12300                        3600   \n",
       "1                           5502                        3600   \n",
       "\n",
       "   Medical Care Expenditure  Transportation Expenditure  \\\n",
       "0                       544                        2700   \n",
       "1                       813                         228   \n",
       "\n",
       "   Communication Expenditure  Education Expenditure  \\\n",
       "0                        636                      0   \n",
       "1                        138                      0   \n",
       "\n",
       "   Miscellaneous Goods and Services Expenditure  \\\n",
       "0                                          5466   \n",
       "1                                          4722   \n",
       "\n",
       "   Special Occasions Expenditure  Crop Farming and Gardening expenses  \\\n",
       "0                           5150                                22300   \n",
       "1                              0                                    0   \n",
       "\n",
       "   Total Income from Entrepreneurial Acitivites Household Head Sex  \\\n",
       "0                                         46100               Male   \n",
       "1                                          5460               Male   \n",
       "\n",
       "   Household Head Age Household Head Marital Status  \\\n",
       "0                  63                       Married   \n",
       "1                  73                       Married   \n",
       "\n",
       "  Household Head Highest Grade Completed  \\\n",
       "0                    Elementary Graduate   \n",
       "1                     No Grade Completed   \n",
       "\n",
       "  Household Head Job or Business Indicator  \\\n",
       "0                        With Job/Business   \n",
       "1                        With Job/Business   \n",
       "\n",
       "             Household Head Occupation     Household Head Class of Worker  \\\n",
       "0               Carpenters and joiners   Worked for private establishment   \n",
       "1  Inland and coastal waters fishermen  Self-employed wihout any employee   \n",
       "\n",
       "  Type of Household  Total Number of Family members  \\\n",
       "0   Extended Family                               6   \n",
       "1     Single Family                               2   \n",
       "\n",
       "   Members with age less than 5 year old  Members with age 5 - 17 years old  \\\n",
       "0                                      2                                  1   \n",
       "1                                      0                                  0   \n",
       "\n",
       "   Total number of family members employed Type of Building/House  \\\n",
       "0                                        2           Single house   \n",
       "1                                        1           Single house   \n",
       "\n",
       "                                        Type of Roof Type of Walls  \\\n",
       "0  Strong material(galvanized,iron,al,tile,concre...        Strong   \n",
       "1                 Light material (cogon,nipa,anahaw)         Light   \n",
       "\n",
       "   House Floor Area  House Age  Number of bedrooms  \\\n",
       "0               342         30                   2   \n",
       "1                20          3                   0   \n",
       "\n",
       "                                    Tenure Status  \\\n",
       "0   Own or owner-like possession of house and lot   \n",
       "1  Own house, rent-free lot with consent of owner   \n",
       "\n",
       "                                   Toilet Facilities  Electricity  \\\n",
       "0  Water-sealed, sewer septic tank, used exclusiv...            1   \n",
       "1  Water-sealed, sewer septic tank, shared with o...            0   \n",
       "\n",
       "            Main Source of Water Supply  Number of Television  \\\n",
       "0  Protected spring, river, stream, etc                     0   \n",
       "1        Own use, tubed/piped deep well                     0   \n",
       "\n",
       "   Number of CD/VCD/DVD  Number of Component/Stereo set  \\\n",
       "0                     0                               0   \n",
       "1                     0                               0   \n",
       "\n",
       "   Number of Refrigerator/Freezer  Number of Washing Machine  \\\n",
       "0                               0                          1   \n",
       "1                               0                          0   \n",
       "\n",
       "   Number of Airconditioner  Number of Car, Jeep, Van  \\\n",
       "0                         0                         0   \n",
       "1                         0                         0   \n",
       "\n",
       "   Number of Landline/wireless telephones  Number of Cellular phone  \\\n",
       "0                                       0                         2   \n",
       "1                                       0                         0   \n",
       "\n",
       "   Number of Personal Computer  Number of Stove with Oven/Gas Range  \\\n",
       "0                            0                                    0   \n",
       "1                            0                                    0   \n",
       "\n",
       "   Number of Motorized Banca  Number of Motorcycle/Tricycle  \\\n",
       "0                          0                              0   \n",
       "1                          0                              0   \n",
       "\n",
       "   Total Household Income  \n",
       "0                  115835  \n",
       "1                   44339  "
      ]
     },
     "execution_count": 7,
     "metadata": {},
     "output_type": "execute_result"
    }
   ],
   "source": [
    "train_data.head(2)"
   ]
  },
  {
   "cell_type": "code",
   "execution_count": 26,
   "metadata": {
    "collapsed": false
   },
   "outputs": [
    {
     "data": {
      "text/plain": [
       "Index(['Region', 'Main Source of Income', 'Household Head Sex',\n",
       "       'Household Head Marital Status',\n",
       "       'Household Head Highest Grade Completed',\n",
       "       'Household Head Job or Business Indicator', 'Household Head Occupation',\n",
       "       'Household Head Class of Worker', 'Type of Household',\n",
       "       'Type of Building/House', 'Type of Roof', 'Type of Walls',\n",
       "       'Tenure Status', 'Toilet Facilities', 'Main Source of Water Supply'],\n",
       "      dtype='object')"
      ]
     },
     "execution_count": 26,
     "metadata": {},
     "output_type": "execute_result"
    }
   ],
   "source": [
    "numerics = ['object']\n",
    "\n",
    "newdf = train_data.select_dtypes(include=numerics)\n",
    "newdf.columns"
   ]
  },
  {
   "cell_type": "code",
   "execution_count": 31,
   "metadata": {
    "collapsed": false
   },
   "outputs": [],
   "source": [
    "response_variable = \"Index\"\n",
    "\n",
    "continuous_vars = ['Total Food Expenditure', \n",
    "                   'Bread and Cereals Expenditure', 'Total Rice Expenditure',\n",
    "                   'Meat Expenditure', 'Total Fish and  marine products Expenditure',\n",
    "                   'Fruit Expenditure', 'Vegetables Expenditure',\n",
    "                   'Restaurant and hotels Expenditure', 'Alcoholic Beverages Expenditure',\n",
    "                   'Tobacco Expenditure', 'Clothing, Footwear and Other Wear Expenditure',\n",
    "                   'Housing and water Expenditure', 'Imputed House Rental Value',\n",
    "                   'Medical Care Expenditure', 'Transportation Expenditure','Communication Expenditure', 'Education Expenditure',\n",
    "                   'Miscellaneous Goods and Services Expenditure', 'Special Occasions Expenditure', 'Crop Farming and Gardening expenses',\n",
    "                   'Total Income from Entrepreneurial Acitivites', 'House Floor Area', 'Total Household Income']\n",
    "\n",
    "nominal_vars = ['Agricultural Household indicator', 'Electricity','Region', 'Main Source of Income', \n",
    "                'Household Head Sex','Household Head Marital Status',\n",
    "                'Household Head Highest Grade Completed',\n",
    "                'Household Head Job or Business Indicator', 'Household Head Occupation',\n",
    "                'Household Head Class of Worker', 'Type of Household',\n",
    "                'Type of Building/House', 'Type of Roof', 'Type of Walls',\n",
    "                'Tenure Status', 'Toilet Facilities', 'Main Source of Water Supply']\n",
    "\n",
    "ordinal_vars = ['Household Head Age','Number of bedrooms','House Age','Number of Television', 'Number of CD/VCD/DVD',\n",
    "                'Total Number of Family members','Number of Component/Stereo set', 'Number of Refrigerator/Freezer',\n",
    "                'Number of Washing Machine', 'Number of Airconditioner',\n",
    "                'Number of Car, Jeep, Van', 'Number of Landline/wireless telephones',\n",
    "                'Number of Cellular phone', 'Number of Personal Computer',\n",
    "                'Number of Stove with Oven/Gas Range', 'Number of Motorized Banca',\n",
    "                'Number of Motorcycle/Tricycle','Members with age less than 5 year old','Members with age 5 - 17 years old','Total number of family members employed'] "
   ]
  },
  {
   "cell_type": "markdown",
   "metadata": {},
   "source": [
    "## Feature Engineering"
   ]
  },
  {
   "cell_type": "code",
   "execution_count": null,
   "metadata": {
    "collapsed": true
   },
   "outputs": [],
   "source": []
  },
  {
   "cell_type": "markdown",
   "metadata": {},
   "source": [
    "***"
   ]
  },
  {
   "cell_type": "markdown",
   "metadata": {},
   "source": [
    "***"
   ]
  },
  {
   "cell_type": "markdown",
   "metadata": {},
   "source": [
    "***"
   ]
  },
  {
   "cell_type": "markdown",
   "metadata": {},
   "source": [
    "# Linear Regression"
   ]
  },
  {
   "cell_type": "markdown",
   "metadata": {},
   "source": [
    "## Model 1 - Numeric Only"
   ]
  },
  {
   "cell_type": "markdown",
   "metadata": {},
   "source": [
    "## Model 2 - Categorical Only"
   ]
  },
  {
   "cell_type": "markdown",
   "metadata": {},
   "source": [
    "## Model 3 - All Feature"
   ]
  },
  {
   "cell_type": "markdown",
   "metadata": {},
   "source": [
    "## Model 4 - Any Features"
   ]
  },
  {
   "cell_type": "markdown",
   "metadata": {},
   "source": [
    "#### Model 4 - Model Selection"
   ]
  },
  {
   "cell_type": "markdown",
   "metadata": {},
   "source": [
    "***"
   ]
  },
  {
   "cell_type": "markdown",
   "metadata": {},
   "source": [
    "***"
   ]
  },
  {
   "cell_type": "markdown",
   "metadata": {},
   "source": [
    "# Neural Net"
   ]
  },
  {
   "cell_type": "markdown",
   "metadata": {},
   "source": [
    "## Model 1 - Numeric Only"
   ]
  },
  {
   "cell_type": "markdown",
   "metadata": {},
   "source": [
    "## Model 2 - Categorical Only"
   ]
  },
  {
   "cell_type": "markdown",
   "metadata": {},
   "source": [
    "## Model 3 - All Feature"
   ]
  },
  {
   "cell_type": "markdown",
   "metadata": {},
   "source": [
    "## Model 4 - Any Features"
   ]
  },
  {
   "cell_type": "markdown",
   "metadata": {},
   "source": [
    "***"
   ]
  },
  {
   "cell_type": "markdown",
   "metadata": {},
   "source": [
    "***"
   ]
  },
  {
   "cell_type": "markdown",
   "metadata": {},
   "source": [
    "***"
   ]
  },
  {
   "cell_type": "markdown",
   "metadata": {},
   "source": [
    "## Functions"
   ]
  },
  {
   "cell_type": "code",
   "execution_count": null,
   "metadata": {
    "collapsed": true
   },
   "outputs": [],
   "source": [
    "def dummyify(df, \n",
    "             col_to_dummy = '',\n",
    "             col_to_drop = ''):\n",
    "    \"\"\"\n",
    "    DESCRIPTION:\n",
    "        * Converts a categorical variable in a Pandas DataFrame to dummy/indicator variables.\n",
    "          Drops one of the dummy columns to create our baseline for modeling. \n",
    "          Drops original column containing categorical variable.\n",
    "        \n",
    "    PARAMS:\n",
    "        * df            --> Pandas DataFrame containing data.\n",
    "        * col_to_dummy  --> The name of the categorical variable to convert to a dummy variable.\n",
    "        * col_to_drop   --> The name of one of the dummy variable columns to drops. \n",
    "                            Defaults to the first value of col_to_dummy.\n",
    "        \n",
    "    RETURNS:\n",
    "        Pandas DataFrame with the categorical variable converted to dummy variables.\n",
    "    \"\"\"\n",
    "    \n",
    "    if col_to_dummy == '':\n",
    "        raise ValueError(\"Please provide column to dummy\")\n",
    "        \n",
    "    dummies = pd.get_dummies( df[col_to_dummy] )\n",
    "    if col_to_drop == '':\n",
    "        col_to_drop = dummies.columns[0]\n",
    "        \n",
    "    df = pd.concat( [df, dummies], axis=1 ).drop( [col_to_drop, col_to_dummy], axis=1 )#.drop( col_to_dummy, axis=1 )\n",
    "    \n",
    "    return df"
   ]
  },
  {
   "cell_type": "code",
   "execution_count": null,
   "metadata": {
    "collapsed": true
   },
   "outputs": [],
   "source": [
    "def expand_var(df, \n",
    "               variable_names = [],\n",
    "               n_expansion = 3):\n",
    "    \"\"\"\n",
    "    DESCRIPTION:\n",
    "        * Expands a quantitative varible(s) in a Pandas DataFrame to the nth power.\n",
    "          Creates a new column for each expanded term(s).\n",
    "        \n",
    "    PARAMS:\n",
    "        * df              --> Pandas DataFrame containing variable(s) to expand.\n",
    "        * variable_names  --> An array specifying the name(s) of the quantitative variable(s) to expand.\n",
    "        * n_expansion     --> The degree to which we will expand our variable(s) up to.\n",
    "        \n",
    "    RETURNS:\n",
    "        Pandas DataFrame with the variable expanded to the specified term.\n",
    "    \"\"\"\n",
    "    \n",
    "    if variable_names == []:\n",
    "        raise ValueError(\"Please specify variable_name to expand\")\n",
    "    \n",
    "    for variable in variable_names:\n",
    "        for i in range(2, n_expansion+1): \n",
    "            expanded_name = (variable + \"^%d\") % i\n",
    "            df[expanded_name] = df[variable] ** i\n",
    "        \n",
    "    return df"
   ]
  }
 ],
 "metadata": {
  "kernelspec": {
   "display_name": "Python 3",
   "language": "python",
   "name": "python3"
  },
  "language_info": {
   "codemirror_mode": {
    "name": "ipython",
    "version": 3
   },
   "file_extension": ".py",
   "mimetype": "text/x-python",
   "name": "python",
   "nbconvert_exporter": "python",
   "pygments_lexer": "ipython3",
   "version": "3.5.2"
  }
 },
 "nbformat": 4,
 "nbformat_minor": 2
}
